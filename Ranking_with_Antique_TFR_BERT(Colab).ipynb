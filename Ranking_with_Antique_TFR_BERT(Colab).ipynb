{
  "nbformat": 4,
  "nbformat_minor": 0,
  "metadata": {
    "kernelspec": {
      "display_name": "Python 3",
      "language": "python",
      "name": "python3"
    },
    "language_info": {
      "codemirror_mode": {
        "name": "ipython",
        "version": 3
      },
      "file_extension": ".py",
      "mimetype": "text/x-python",
      "name": "python",
      "nbconvert_exporter": "python",
      "pygments_lexer": "ipython3",
      "version": "3.7.3"
    },
    "colab": {
      "name": "Ranking with Antique TFR-BERT.ipynb",
      "provenance": []
    },
    "accelerator": "GPU"
  },
  "cells": [
    {
      "cell_type": "markdown",
      "metadata": {
        "id": "Bb-Y8KuJBeR2",
        "colab_type": "text"
      },
      "source": [
        "# TF-Ranking Model\n",
        "\n",
        "### The TF-Ranking DNN Model is used in this project - it requires data in Example List With Context (ELWC) Format, which will be created by example_columns. In this Ranking situation, since dense representations include the query and the doc, we will leave the example_column empty."
      ]
    },
    {
      "cell_type": "code",
      "metadata": {
        "id": "WEEKnicEVchX",
        "colab_type": "code",
        "colab": {
          "base_uri": "https://localhost:8080/",
          "height": 122
        },
        "outputId": "4640f8b5-ee46-46f2-f33f-be75d91c25eb"
      },
      "source": [
        "from google.colab import drive\n",
        "drive.mount('/content/drive')"
      ],
      "execution_count": 1,
      "outputs": [
        {
          "output_type": "stream",
          "text": [
            "Go to this URL in a browser: https://accounts.google.com/o/oauth2/auth?client_id=947318989803-6bn6qk8qdgf4n4g3pfee6491hc0brc4i.apps.googleusercontent.com&redirect_uri=urn%3aietf%3awg%3aoauth%3a2.0%3aoob&response_type=code&scope=email%20https%3a%2f%2fwww.googleapis.com%2fauth%2fdocs.test%20https%3a%2f%2fwww.googleapis.com%2fauth%2fdrive%20https%3a%2f%2fwww.googleapis.com%2fauth%2fdrive.photos.readonly%20https%3a%2f%2fwww.googleapis.com%2fauth%2fpeopleapi.readonly\n",
            "\n",
            "Enter your authorization code:\n",
            "··········\n",
            "Mounted at /content/drive\n"
          ],
          "name": "stdout"
        }
      ]
    },
    {
      "cell_type": "code",
      "metadata": {
        "id": "rCcjRdG8OW-5",
        "colab_type": "code",
        "colab": {
          "base_uri": "https://localhost:8080/",
          "height": 1000
        },
        "outputId": "c85871ad-dee1-4ea8-bf7c-2340409ab0e1"
      },
      "source": [
        "!pip install transformers\n",
        "!pip install tensorflow\n",
        "!pip install bert-tensorflow\n",
        "!pip install tensorflow_ranking"
      ],
      "execution_count": 2,
      "outputs": [
        {
          "output_type": "stream",
          "text": [
            "Collecting transformers\n",
            "\u001b[?25l  Downloading https://files.pythonhosted.org/packages/9c/35/1c3f6e62d81f5f0daff1384e6d5e6c5758682a8357ebc765ece2b9def62b/transformers-3.0.0-py3-none-any.whl (754kB)\n",
            "\r\u001b[K     |▍                               | 10kB 20.7MB/s eta 0:00:01\r\u001b[K     |▉                               | 20kB 28.1MB/s eta 0:00:01\r\u001b[K     |█▎                              | 30kB 25.4MB/s eta 0:00:01\r\u001b[K     |█▊                              | 40kB 19.8MB/s eta 0:00:01\r\u001b[K     |██▏                             | 51kB 13.5MB/s eta 0:00:01\r\u001b[K     |██▋                             | 61kB 11.4MB/s eta 0:00:01\r\u001b[K     |███                             | 71kB 10.9MB/s eta 0:00:01\r\u001b[K     |███▌                            | 81kB 11.1MB/s eta 0:00:01\r\u001b[K     |████                            | 92kB 11.2MB/s eta 0:00:01\r\u001b[K     |████▍                           | 102kB 11.3MB/s eta 0:00:01\r\u001b[K     |████▊                           | 112kB 11.3MB/s eta 0:00:01\r\u001b[K     |█████▏                          | 122kB 11.3MB/s eta 0:00:01\r\u001b[K     |█████▋                          | 133kB 11.3MB/s eta 0:00:01\r\u001b[K     |██████                          | 143kB 11.3MB/s eta 0:00:01\r\u001b[K     |██████▌                         | 153kB 11.3MB/s eta 0:00:01\r\u001b[K     |███████                         | 163kB 11.3MB/s eta 0:00:01\r\u001b[K     |███████▍                        | 174kB 11.3MB/s eta 0:00:01\r\u001b[K     |███████▉                        | 184kB 11.3MB/s eta 0:00:01\r\u001b[K     |████████▎                       | 194kB 11.3MB/s eta 0:00:01\r\u001b[K     |████████▊                       | 204kB 11.3MB/s eta 0:00:01\r\u001b[K     |█████████▏                      | 215kB 11.3MB/s eta 0:00:01\r\u001b[K     |█████████▌                      | 225kB 11.3MB/s eta 0:00:01\r\u001b[K     |██████████                      | 235kB 11.3MB/s eta 0:00:01\r\u001b[K     |██████████▍                     | 245kB 11.3MB/s eta 0:00:01\r\u001b[K     |██████████▉                     | 256kB 11.3MB/s eta 0:00:01\r\u001b[K     |███████████▎                    | 266kB 11.3MB/s eta 0:00:01\r\u001b[K     |███████████▊                    | 276kB 11.3MB/s eta 0:00:01\r\u001b[K     |████████████▏                   | 286kB 11.3MB/s eta 0:00:01\r\u001b[K     |████████████▋                   | 296kB 11.3MB/s eta 0:00:01\r\u001b[K     |█████████████                   | 307kB 11.3MB/s eta 0:00:01\r\u001b[K     |█████████████▌                  | 317kB 11.3MB/s eta 0:00:01\r\u001b[K     |██████████████                  | 327kB 11.3MB/s eta 0:00:01\r\u001b[K     |██████████████▎                 | 337kB 11.3MB/s eta 0:00:01\r\u001b[K     |██████████████▊                 | 348kB 11.3MB/s eta 0:00:01\r\u001b[K     |███████████████▏                | 358kB 11.3MB/s eta 0:00:01\r\u001b[K     |███████████████▋                | 368kB 11.3MB/s eta 0:00:01\r\u001b[K     |████████████████                | 378kB 11.3MB/s eta 0:00:01\r\u001b[K     |████████████████▌               | 389kB 11.3MB/s eta 0:00:01\r\u001b[K     |█████████████████               | 399kB 11.3MB/s eta 0:00:01\r\u001b[K     |█████████████████▍              | 409kB 11.3MB/s eta 0:00:01\r\u001b[K     |█████████████████▉              | 419kB 11.3MB/s eta 0:00:01\r\u001b[K     |██████████████████▎             | 430kB 11.3MB/s eta 0:00:01\r\u001b[K     |██████████████████▊             | 440kB 11.3MB/s eta 0:00:01\r\u001b[K     |███████████████████             | 450kB 11.3MB/s eta 0:00:01\r\u001b[K     |███████████████████▌            | 460kB 11.3MB/s eta 0:00:01\r\u001b[K     |████████████████████            | 471kB 11.3MB/s eta 0:00:01\r\u001b[K     |████████████████████▍           | 481kB 11.3MB/s eta 0:00:01\r\u001b[K     |████████████████████▉           | 491kB 11.3MB/s eta 0:00:01\r\u001b[K     |█████████████████████▎          | 501kB 11.3MB/s eta 0:00:01\r\u001b[K     |█████████████████████▊          | 512kB 11.3MB/s eta 0:00:01\r\u001b[K     |██████████████████████▏         | 522kB 11.3MB/s eta 0:00:01\r\u001b[K     |██████████████████████▋         | 532kB 11.3MB/s eta 0:00:01\r\u001b[K     |███████████████████████         | 542kB 11.3MB/s eta 0:00:01\r\u001b[K     |███████████████████████▌        | 552kB 11.3MB/s eta 0:00:01\r\u001b[K     |███████████████████████▉        | 563kB 11.3MB/s eta 0:00:01\r\u001b[K     |████████████████████████▎       | 573kB 11.3MB/s eta 0:00:01\r\u001b[K     |████████████████████████▊       | 583kB 11.3MB/s eta 0:00:01\r\u001b[K     |█████████████████████████▏      | 593kB 11.3MB/s eta 0:00:01\r\u001b[K     |█████████████████████████▋      | 604kB 11.3MB/s eta 0:00:01\r\u001b[K     |██████████████████████████      | 614kB 11.3MB/s eta 0:00:01\r\u001b[K     |██████████████████████████▌     | 624kB 11.3MB/s eta 0:00:01\r\u001b[K     |███████████████████████████     | 634kB 11.3MB/s eta 0:00:01\r\u001b[K     |███████████████████████████▍    | 645kB 11.3MB/s eta 0:00:01\r\u001b[K     |███████████████████████████▉    | 655kB 11.3MB/s eta 0:00:01\r\u001b[K     |████████████████████████████▎   | 665kB 11.3MB/s eta 0:00:01\r\u001b[K     |████████████████████████████▋   | 675kB 11.3MB/s eta 0:00:01\r\u001b[K     |█████████████████████████████   | 686kB 11.3MB/s eta 0:00:01\r\u001b[K     |█████████████████████████████▌  | 696kB 11.3MB/s eta 0:00:01\r\u001b[K     |██████████████████████████████  | 706kB 11.3MB/s eta 0:00:01\r\u001b[K     |██████████████████████████████▍ | 716kB 11.3MB/s eta 0:00:01\r\u001b[K     |██████████████████████████████▉ | 727kB 11.3MB/s eta 0:00:01\r\u001b[K     |███████████████████████████████▎| 737kB 11.3MB/s eta 0:00:01\r\u001b[K     |███████████████████████████████▊| 747kB 11.3MB/s eta 0:00:01\r\u001b[K     |████████████████████████████████| 757kB 11.3MB/s \n",
            "\u001b[?25hRequirement already satisfied: requests in /usr/local/lib/python3.6/dist-packages (from transformers) (2.23.0)\n",
            "Collecting tokenizers==0.8.0-rc4\n",
            "\u001b[?25l  Downloading https://files.pythonhosted.org/packages/e8/bd/e5abec46af977c8a1375c1dca7cb1e5b3ec392ef279067af7f6bc50491a0/tokenizers-0.8.0rc4-cp36-cp36m-manylinux1_x86_64.whl (3.0MB)\n",
            "\u001b[K     |████████████████████████████████| 3.0MB 47.9MB/s \n",
            "\u001b[?25hRequirement already satisfied: packaging in /usr/local/lib/python3.6/dist-packages (from transformers) (20.4)\n",
            "Collecting sentencepiece\n",
            "\u001b[?25l  Downloading https://files.pythonhosted.org/packages/d4/a4/d0a884c4300004a78cca907a6ff9a5e9fe4f090f5d95ab341c53d28cbc58/sentencepiece-0.1.91-cp36-cp36m-manylinux1_x86_64.whl (1.1MB)\n",
            "\u001b[K     |████████████████████████████████| 1.1MB 50.8MB/s \n",
            "\u001b[?25hRequirement already satisfied: tqdm>=4.27 in /usr/local/lib/python3.6/dist-packages (from transformers) (4.41.1)\n",
            "Requirement already satisfied: regex!=2019.12.17 in /usr/local/lib/python3.6/dist-packages (from transformers) (2019.12.20)\n",
            "Collecting sacremoses\n",
            "\u001b[?25l  Downloading https://files.pythonhosted.org/packages/7d/34/09d19aff26edcc8eb2a01bed8e98f13a1537005d31e95233fd48216eed10/sacremoses-0.0.43.tar.gz (883kB)\n",
            "\u001b[K     |████████████████████████████████| 890kB 52.3MB/s \n",
            "\u001b[?25hRequirement already satisfied: numpy in /usr/local/lib/python3.6/dist-packages (from transformers) (1.18.5)\n",
            "Requirement already satisfied: filelock in /usr/local/lib/python3.6/dist-packages (from transformers) (3.0.12)\n",
            "Requirement already satisfied: dataclasses; python_version < \"3.7\" in /usr/local/lib/python3.6/dist-packages (from transformers) (0.7)\n",
            "Requirement already satisfied: idna<3,>=2.5 in /usr/local/lib/python3.6/dist-packages (from requests->transformers) (2.9)\n",
            "Requirement already satisfied: urllib3!=1.25.0,!=1.25.1,<1.26,>=1.21.1 in /usr/local/lib/python3.6/dist-packages (from requests->transformers) (1.24.3)\n",
            "Requirement already satisfied: chardet<4,>=3.0.2 in /usr/local/lib/python3.6/dist-packages (from requests->transformers) (3.0.4)\n",
            "Requirement already satisfied: certifi>=2017.4.17 in /usr/local/lib/python3.6/dist-packages (from requests->transformers) (2020.6.20)\n",
            "Requirement already satisfied: pyparsing>=2.0.2 in /usr/local/lib/python3.6/dist-packages (from packaging->transformers) (2.4.7)\n",
            "Requirement already satisfied: six in /usr/local/lib/python3.6/dist-packages (from packaging->transformers) (1.12.0)\n",
            "Requirement already satisfied: click in /usr/local/lib/python3.6/dist-packages (from sacremoses->transformers) (7.1.2)\n",
            "Requirement already satisfied: joblib in /usr/local/lib/python3.6/dist-packages (from sacremoses->transformers) (0.15.1)\n",
            "Building wheels for collected packages: sacremoses\n",
            "  Building wheel for sacremoses (setup.py) ... \u001b[?25l\u001b[?25hdone\n",
            "  Created wheel for sacremoses: filename=sacremoses-0.0.43-cp36-none-any.whl size=893260 sha256=62146dedbd301641ae6247b9fec951cfe87a9731adeda5eb96def564085f39b1\n",
            "  Stored in directory: /root/.cache/pip/wheels/29/3c/fd/7ce5c3f0666dab31a50123635e6fb5e19ceb42ce38d4e58f45\n",
            "Successfully built sacremoses\n",
            "Installing collected packages: tokenizers, sentencepiece, sacremoses, transformers\n",
            "Successfully installed sacremoses-0.0.43 sentencepiece-0.1.91 tokenizers-0.8.0rc4 transformers-3.0.0\n",
            "Requirement already satisfied: tensorflow in /usr/local/lib/python3.6/dist-packages (2.2.0)\n",
            "Requirement already satisfied: google-pasta>=0.1.8 in /usr/local/lib/python3.6/dist-packages (from tensorflow) (0.2.0)\n",
            "Requirement already satisfied: absl-py>=0.7.0 in /usr/local/lib/python3.6/dist-packages (from tensorflow) (0.9.0)\n",
            "Requirement already satisfied: h5py<2.11.0,>=2.10.0 in /usr/local/lib/python3.6/dist-packages (from tensorflow) (2.10.0)\n",
            "Requirement already satisfied: termcolor>=1.1.0 in /usr/local/lib/python3.6/dist-packages (from tensorflow) (1.1.0)\n",
            "Requirement already satisfied: wheel>=0.26; python_version >= \"3\" in /usr/local/lib/python3.6/dist-packages (from tensorflow) (0.34.2)\n",
            "Requirement already satisfied: scipy==1.4.1; python_version >= \"3\" in /usr/local/lib/python3.6/dist-packages (from tensorflow) (1.4.1)\n",
            "Requirement already satisfied: opt-einsum>=2.3.2 in /usr/local/lib/python3.6/dist-packages (from tensorflow) (3.2.1)\n",
            "Requirement already satisfied: gast==0.3.3 in /usr/local/lib/python3.6/dist-packages (from tensorflow) (0.3.3)\n",
            "Requirement already satisfied: grpcio>=1.8.6 in /usr/local/lib/python3.6/dist-packages (from tensorflow) (1.30.0)\n",
            "Requirement already satisfied: six>=1.12.0 in /usr/local/lib/python3.6/dist-packages (from tensorflow) (1.12.0)\n",
            "Requirement already satisfied: astunparse==1.6.3 in /usr/local/lib/python3.6/dist-packages (from tensorflow) (1.6.3)\n",
            "Requirement already satisfied: wrapt>=1.11.1 in /usr/local/lib/python3.6/dist-packages (from tensorflow) (1.12.1)\n",
            "Requirement already satisfied: numpy<2.0,>=1.16.0 in /usr/local/lib/python3.6/dist-packages (from tensorflow) (1.18.5)\n",
            "Requirement already satisfied: protobuf>=3.8.0 in /usr/local/lib/python3.6/dist-packages (from tensorflow) (3.10.0)\n",
            "Requirement already satisfied: tensorflow-estimator<2.3.0,>=2.2.0 in /usr/local/lib/python3.6/dist-packages (from tensorflow) (2.2.0)\n",
            "Requirement already satisfied: keras-preprocessing>=1.1.0 in /usr/local/lib/python3.6/dist-packages (from tensorflow) (1.1.2)\n",
            "Requirement already satisfied: tensorboard<2.3.0,>=2.2.0 in /usr/local/lib/python3.6/dist-packages (from tensorflow) (2.2.2)\n",
            "Requirement already satisfied: setuptools in /usr/local/lib/python3.6/dist-packages (from protobuf>=3.8.0->tensorflow) (47.3.1)\n",
            "Requirement already satisfied: google-auth<2,>=1.6.3 in /usr/local/lib/python3.6/dist-packages (from tensorboard<2.3.0,>=2.2.0->tensorflow) (1.17.2)\n",
            "Requirement already satisfied: markdown>=2.6.8 in /usr/local/lib/python3.6/dist-packages (from tensorboard<2.3.0,>=2.2.0->tensorflow) (3.2.2)\n",
            "Requirement already satisfied: tensorboard-plugin-wit>=1.6.0 in /usr/local/lib/python3.6/dist-packages (from tensorboard<2.3.0,>=2.2.0->tensorflow) (1.6.0.post3)\n",
            "Requirement already satisfied: werkzeug>=0.11.15 in /usr/local/lib/python3.6/dist-packages (from tensorboard<2.3.0,>=2.2.0->tensorflow) (1.0.1)\n",
            "Requirement already satisfied: requests<3,>=2.21.0 in /usr/local/lib/python3.6/dist-packages (from tensorboard<2.3.0,>=2.2.0->tensorflow) (2.23.0)\n",
            "Requirement already satisfied: google-auth-oauthlib<0.5,>=0.4.1 in /usr/local/lib/python3.6/dist-packages (from tensorboard<2.3.0,>=2.2.0->tensorflow) (0.4.1)\n",
            "Requirement already satisfied: pyasn1-modules>=0.2.1 in /usr/local/lib/python3.6/dist-packages (from google-auth<2,>=1.6.3->tensorboard<2.3.0,>=2.2.0->tensorflow) (0.2.8)\n",
            "Requirement already satisfied: cachetools<5.0,>=2.0.0 in /usr/local/lib/python3.6/dist-packages (from google-auth<2,>=1.6.3->tensorboard<2.3.0,>=2.2.0->tensorflow) (4.1.0)\n",
            "Requirement already satisfied: rsa<5,>=3.1.4; python_version >= \"3\" in /usr/local/lib/python3.6/dist-packages (from google-auth<2,>=1.6.3->tensorboard<2.3.0,>=2.2.0->tensorflow) (4.6)\n",
            "Requirement already satisfied: importlib-metadata; python_version < \"3.8\" in /usr/local/lib/python3.6/dist-packages (from markdown>=2.6.8->tensorboard<2.3.0,>=2.2.0->tensorflow) (1.6.1)\n",
            "Requirement already satisfied: chardet<4,>=3.0.2 in /usr/local/lib/python3.6/dist-packages (from requests<3,>=2.21.0->tensorboard<2.3.0,>=2.2.0->tensorflow) (3.0.4)\n",
            "Requirement already satisfied: certifi>=2017.4.17 in /usr/local/lib/python3.6/dist-packages (from requests<3,>=2.21.0->tensorboard<2.3.0,>=2.2.0->tensorflow) (2020.6.20)\n",
            "Requirement already satisfied: urllib3!=1.25.0,!=1.25.1,<1.26,>=1.21.1 in /usr/local/lib/python3.6/dist-packages (from requests<3,>=2.21.0->tensorboard<2.3.0,>=2.2.0->tensorflow) (1.24.3)\n",
            "Requirement already satisfied: idna<3,>=2.5 in /usr/local/lib/python3.6/dist-packages (from requests<3,>=2.21.0->tensorboard<2.3.0,>=2.2.0->tensorflow) (2.9)\n",
            "Requirement already satisfied: requests-oauthlib>=0.7.0 in /usr/local/lib/python3.6/dist-packages (from google-auth-oauthlib<0.5,>=0.4.1->tensorboard<2.3.0,>=2.2.0->tensorflow) (1.3.0)\n",
            "Requirement already satisfied: pyasn1<0.5.0,>=0.4.6 in /usr/local/lib/python3.6/dist-packages (from pyasn1-modules>=0.2.1->google-auth<2,>=1.6.3->tensorboard<2.3.0,>=2.2.0->tensorflow) (0.4.8)\n",
            "Requirement already satisfied: zipp>=0.5 in /usr/local/lib/python3.6/dist-packages (from importlib-metadata; python_version < \"3.8\"->markdown>=2.6.8->tensorboard<2.3.0,>=2.2.0->tensorflow) (3.1.0)\n",
            "Requirement already satisfied: oauthlib>=3.0.0 in /usr/local/lib/python3.6/dist-packages (from requests-oauthlib>=0.7.0->google-auth-oauthlib<0.5,>=0.4.1->tensorboard<2.3.0,>=2.2.0->tensorflow) (3.1.0)\n",
            "Collecting bert-tensorflow\n",
            "\u001b[?25l  Downloading https://files.pythonhosted.org/packages/a6/66/7eb4e8b6ea35b7cc54c322c816f976167a43019750279a8473d355800a93/bert_tensorflow-1.0.1-py2.py3-none-any.whl (67kB)\n",
            "\u001b[K     |████████████████████████████████| 71kB 5.7MB/s \n",
            "\u001b[?25hRequirement already satisfied: six in /usr/local/lib/python3.6/dist-packages (from bert-tensorflow) (1.12.0)\n",
            "Installing collected packages: bert-tensorflow\n",
            "Successfully installed bert-tensorflow-1.0.1\n",
            "Collecting tensorflow_ranking\n",
            "\u001b[?25l  Downloading https://files.pythonhosted.org/packages/88/7f/283cf82c2888d010ec19a6dc0ba652c26f8acbcc55685becaf5d4c78b0cc/tensorflow_ranking-0.3.1-py2.py3-none-any.whl (86kB)\n",
            "\u001b[K     |████████████████████████████████| 92kB 6.0MB/s \n",
            "\u001b[?25hRequirement already satisfied: numpy>=1.13.3 in /usr/local/lib/python3.6/dist-packages (from tensorflow_ranking) (1.18.5)\n",
            "Collecting tensorflow-serving-api<3.0.0,>=2.0.0\n",
            "  Downloading https://files.pythonhosted.org/packages/7f/9d/b8a604630c51f32f4de8cc31da559387761daab7732df38a0c6b9df28219/tensorflow_serving_api-2.2.0-py2.py3-none-any.whl\n",
            "Requirement already satisfied: absl-py>=0.1.6 in /usr/local/lib/python3.6/dist-packages (from tensorflow_ranking) (0.9.0)\n",
            "Requirement already satisfied: six>=1.10.0 in /usr/local/lib/python3.6/dist-packages (from tensorflow_ranking) (1.12.0)\n",
            "Requirement already satisfied: grpcio>=1.0<2 in /usr/local/lib/python3.6/dist-packages (from tensorflow-serving-api<3.0.0,>=2.0.0->tensorflow_ranking) (1.30.0)\n",
            "Requirement already satisfied: tensorflow~=2.2.0 in /usr/local/lib/python3.6/dist-packages (from tensorflow-serving-api<3.0.0,>=2.0.0->tensorflow_ranking) (2.2.0)\n",
            "Requirement already satisfied: protobuf>=3.6.0 in /usr/local/lib/python3.6/dist-packages (from tensorflow-serving-api<3.0.0,>=2.0.0->tensorflow_ranking) (3.10.0)\n",
            "Requirement already satisfied: tensorboard<2.3.0,>=2.2.0 in /usr/local/lib/python3.6/dist-packages (from tensorflow~=2.2.0->tensorflow-serving-api<3.0.0,>=2.0.0->tensorflow_ranking) (2.2.2)\n",
            "Requirement already satisfied: google-pasta>=0.1.8 in /usr/local/lib/python3.6/dist-packages (from tensorflow~=2.2.0->tensorflow-serving-api<3.0.0,>=2.0.0->tensorflow_ranking) (0.2.0)\n",
            "Requirement already satisfied: termcolor>=1.1.0 in /usr/local/lib/python3.6/dist-packages (from tensorflow~=2.2.0->tensorflow-serving-api<3.0.0,>=2.0.0->tensorflow_ranking) (1.1.0)\n",
            "Requirement already satisfied: wrapt>=1.11.1 in /usr/local/lib/python3.6/dist-packages (from tensorflow~=2.2.0->tensorflow-serving-api<3.0.0,>=2.0.0->tensorflow_ranking) (1.12.1)\n",
            "Requirement already satisfied: opt-einsum>=2.3.2 in /usr/local/lib/python3.6/dist-packages (from tensorflow~=2.2.0->tensorflow-serving-api<3.0.0,>=2.0.0->tensorflow_ranking) (3.2.1)\n",
            "Requirement already satisfied: keras-preprocessing>=1.1.0 in /usr/local/lib/python3.6/dist-packages (from tensorflow~=2.2.0->tensorflow-serving-api<3.0.0,>=2.0.0->tensorflow_ranking) (1.1.2)\n",
            "Requirement already satisfied: h5py<2.11.0,>=2.10.0 in /usr/local/lib/python3.6/dist-packages (from tensorflow~=2.2.0->tensorflow-serving-api<3.0.0,>=2.0.0->tensorflow_ranking) (2.10.0)\n",
            "Requirement already satisfied: gast==0.3.3 in /usr/local/lib/python3.6/dist-packages (from tensorflow~=2.2.0->tensorflow-serving-api<3.0.0,>=2.0.0->tensorflow_ranking) (0.3.3)\n",
            "Requirement already satisfied: tensorflow-estimator<2.3.0,>=2.2.0 in /usr/local/lib/python3.6/dist-packages (from tensorflow~=2.2.0->tensorflow-serving-api<3.0.0,>=2.0.0->tensorflow_ranking) (2.2.0)\n",
            "Requirement already satisfied: wheel>=0.26; python_version >= \"3\" in /usr/local/lib/python3.6/dist-packages (from tensorflow~=2.2.0->tensorflow-serving-api<3.0.0,>=2.0.0->tensorflow_ranking) (0.34.2)\n",
            "Requirement already satisfied: scipy==1.4.1; python_version >= \"3\" in /usr/local/lib/python3.6/dist-packages (from tensorflow~=2.2.0->tensorflow-serving-api<3.0.0,>=2.0.0->tensorflow_ranking) (1.4.1)\n",
            "Requirement already satisfied: astunparse==1.6.3 in /usr/local/lib/python3.6/dist-packages (from tensorflow~=2.2.0->tensorflow-serving-api<3.0.0,>=2.0.0->tensorflow_ranking) (1.6.3)\n",
            "Requirement already satisfied: setuptools in /usr/local/lib/python3.6/dist-packages (from protobuf>=3.6.0->tensorflow-serving-api<3.0.0,>=2.0.0->tensorflow_ranking) (47.3.1)\n",
            "Requirement already satisfied: requests<3,>=2.21.0 in /usr/local/lib/python3.6/dist-packages (from tensorboard<2.3.0,>=2.2.0->tensorflow~=2.2.0->tensorflow-serving-api<3.0.0,>=2.0.0->tensorflow_ranking) (2.23.0)\n",
            "Requirement already satisfied: markdown>=2.6.8 in /usr/local/lib/python3.6/dist-packages (from tensorboard<2.3.0,>=2.2.0->tensorflow~=2.2.0->tensorflow-serving-api<3.0.0,>=2.0.0->tensorflow_ranking) (3.2.2)\n",
            "Requirement already satisfied: google-auth-oauthlib<0.5,>=0.4.1 in /usr/local/lib/python3.6/dist-packages (from tensorboard<2.3.0,>=2.2.0->tensorflow~=2.2.0->tensorflow-serving-api<3.0.0,>=2.0.0->tensorflow_ranking) (0.4.1)\n",
            "Requirement already satisfied: werkzeug>=0.11.15 in /usr/local/lib/python3.6/dist-packages (from tensorboard<2.3.0,>=2.2.0->tensorflow~=2.2.0->tensorflow-serving-api<3.0.0,>=2.0.0->tensorflow_ranking) (1.0.1)\n",
            "Requirement already satisfied: google-auth<2,>=1.6.3 in /usr/local/lib/python3.6/dist-packages (from tensorboard<2.3.0,>=2.2.0->tensorflow~=2.2.0->tensorflow-serving-api<3.0.0,>=2.0.0->tensorflow_ranking) (1.17.2)\n",
            "Requirement already satisfied: tensorboard-plugin-wit>=1.6.0 in /usr/local/lib/python3.6/dist-packages (from tensorboard<2.3.0,>=2.2.0->tensorflow~=2.2.0->tensorflow-serving-api<3.0.0,>=2.0.0->tensorflow_ranking) (1.6.0.post3)\n",
            "Requirement already satisfied: certifi>=2017.4.17 in /usr/local/lib/python3.6/dist-packages (from requests<3,>=2.21.0->tensorboard<2.3.0,>=2.2.0->tensorflow~=2.2.0->tensorflow-serving-api<3.0.0,>=2.0.0->tensorflow_ranking) (2020.6.20)\n",
            "Requirement already satisfied: idna<3,>=2.5 in /usr/local/lib/python3.6/dist-packages (from requests<3,>=2.21.0->tensorboard<2.3.0,>=2.2.0->tensorflow~=2.2.0->tensorflow-serving-api<3.0.0,>=2.0.0->tensorflow_ranking) (2.9)\n",
            "Requirement already satisfied: chardet<4,>=3.0.2 in /usr/local/lib/python3.6/dist-packages (from requests<3,>=2.21.0->tensorboard<2.3.0,>=2.2.0->tensorflow~=2.2.0->tensorflow-serving-api<3.0.0,>=2.0.0->tensorflow_ranking) (3.0.4)\n",
            "Requirement already satisfied: urllib3!=1.25.0,!=1.25.1,<1.26,>=1.21.1 in /usr/local/lib/python3.6/dist-packages (from requests<3,>=2.21.0->tensorboard<2.3.0,>=2.2.0->tensorflow~=2.2.0->tensorflow-serving-api<3.0.0,>=2.0.0->tensorflow_ranking) (1.24.3)\n",
            "Requirement already satisfied: importlib-metadata; python_version < \"3.8\" in /usr/local/lib/python3.6/dist-packages (from markdown>=2.6.8->tensorboard<2.3.0,>=2.2.0->tensorflow~=2.2.0->tensorflow-serving-api<3.0.0,>=2.0.0->tensorflow_ranking) (1.6.1)\n",
            "Requirement already satisfied: requests-oauthlib>=0.7.0 in /usr/local/lib/python3.6/dist-packages (from google-auth-oauthlib<0.5,>=0.4.1->tensorboard<2.3.0,>=2.2.0->tensorflow~=2.2.0->tensorflow-serving-api<3.0.0,>=2.0.0->tensorflow_ranking) (1.3.0)\n",
            "Requirement already satisfied: pyasn1-modules>=0.2.1 in /usr/local/lib/python3.6/dist-packages (from google-auth<2,>=1.6.3->tensorboard<2.3.0,>=2.2.0->tensorflow~=2.2.0->tensorflow-serving-api<3.0.0,>=2.0.0->tensorflow_ranking) (0.2.8)\n",
            "Requirement already satisfied: cachetools<5.0,>=2.0.0 in /usr/local/lib/python3.6/dist-packages (from google-auth<2,>=1.6.3->tensorboard<2.3.0,>=2.2.0->tensorflow~=2.2.0->tensorflow-serving-api<3.0.0,>=2.0.0->tensorflow_ranking) (4.1.0)\n",
            "Requirement already satisfied: rsa<5,>=3.1.4; python_version >= \"3\" in /usr/local/lib/python3.6/dist-packages (from google-auth<2,>=1.6.3->tensorboard<2.3.0,>=2.2.0->tensorflow~=2.2.0->tensorflow-serving-api<3.0.0,>=2.0.0->tensorflow_ranking) (4.6)\n",
            "Requirement already satisfied: zipp>=0.5 in /usr/local/lib/python3.6/dist-packages (from importlib-metadata; python_version < \"3.8\"->markdown>=2.6.8->tensorboard<2.3.0,>=2.2.0->tensorflow~=2.2.0->tensorflow-serving-api<3.0.0,>=2.0.0->tensorflow_ranking) (3.1.0)\n",
            "Requirement already satisfied: oauthlib>=3.0.0 in /usr/local/lib/python3.6/dist-packages (from requests-oauthlib>=0.7.0->google-auth-oauthlib<0.5,>=0.4.1->tensorboard<2.3.0,>=2.2.0->tensorflow~=2.2.0->tensorflow-serving-api<3.0.0,>=2.0.0->tensorflow_ranking) (3.1.0)\n",
            "Requirement already satisfied: pyasn1<0.5.0,>=0.4.6 in /usr/local/lib/python3.6/dist-packages (from pyasn1-modules>=0.2.1->google-auth<2,>=1.6.3->tensorboard<2.3.0,>=2.2.0->tensorflow~=2.2.0->tensorflow-serving-api<3.0.0,>=2.0.0->tensorflow_ranking) (0.4.8)\n",
            "Installing collected packages: tensorflow-serving-api, tensorflow-ranking\n",
            "Successfully installed tensorflow-ranking-0.3.1 tensorflow-serving-api-2.2.0\n"
          ],
          "name": "stdout"
        }
      ]
    },
    {
      "cell_type": "code",
      "metadata": {
        "id": "FnK3j__zOYuJ",
        "colab_type": "code",
        "colab": {}
      },
      "source": [
        "import pandas as pd\n",
        "from transformers import TFBertModel, BertTokenizer\n",
        "import bert.tokenization as tokenization\n",
        "import tensorflow as tf\n",
        "import tensorflow_ranking as tfr\n",
        "import itertools\n",
        "import numpy as np\n",
        "import time\n",
        "import matplotlib.pyplot as plt\n",
        "from tensorflow.keras.callbacks import ModelCheckpoint, Callback, ReduceLROnPlateau, LearningRateScheduler, EarlyStopping, TensorBoard\n",
        "from tensorflow.keras.callbacks import LambdaCallback, CSVLogger"
      ],
      "execution_count": 3,
      "outputs": []
    },
    {
      "cell_type": "code",
      "metadata": {
        "id": "5qS1inXUBeR3",
        "colab_type": "code",
        "colab": {}
      },
      "source": [
        "list_size = 10\n",
        "batch_size = 5\n",
        "number_of_features = 768\n",
        "valid_set_ratio = 0.15\n",
        "seed = 1234\n",
        "trial = f'tfrbert_1_{seed}'\n",
        "np.random.seed(seed)\n",
        "tf.random.set_seed(seed)"
      ],
      "execution_count": 4,
      "outputs": []
    },
    {
      "cell_type": "code",
      "metadata": {
        "id": "UIX02O6cBeR4",
        "colab_type": "code",
        "colab": {}
      },
      "source": [
        "# Reading the pre-processed data into a dataframe\n",
        "\n",
        "added_train_df = pd.read_csv('./drive/My Drive/Antique_Dataset/added_antique_train_bert.tsv', sep='\\t')\n",
        "train_df = pd.read_csv('./drive/My Drive/Antique_Dataset/antique_train_bert.tsv', sep='\\t')\n",
        "test_df = pd.read_csv('./drive/My Drive/Antique_Dataset/antique_test_bert.tsv', sep='\\t')"
      ],
      "execution_count": 5,
      "outputs": []
    },
    {
      "cell_type": "code",
      "metadata": {
        "id": "BNavJLGQfllb",
        "colab_type": "code",
        "colab": {
          "base_uri": "https://localhost:8080/",
          "height": 1000
        },
        "outputId": "a4e60ac0-64ec-442d-8fc6-d5f0722d0514"
      },
      "source": [
        "train_df"
      ],
      "execution_count": 6,
      "outputs": [
        {
          "output_type": "execute_result",
          "data": {
            "text/html": [
              "<div>\n",
              "<style scoped>\n",
              "    .dataframe tbody tr th:only-of-type {\n",
              "        vertical-align: middle;\n",
              "    }\n",
              "\n",
              "    .dataframe tbody tr th {\n",
              "        vertical-align: top;\n",
              "    }\n",
              "\n",
              "    .dataframe thead th {\n",
              "        text-align: right;\n",
              "    }\n",
              "</style>\n",
              "<table border=\"1\" class=\"dataframe\">\n",
              "  <thead>\n",
              "    <tr style=\"text-align: right;\">\n",
              "      <th></th>\n",
              "      <th>query_id</th>\n",
              "      <th>source</th>\n",
              "      <th>doc_id</th>\n",
              "      <th>relevance</th>\n",
              "      <th>query</th>\n",
              "      <th>doc</th>\n",
              "      <th>input_ids</th>\n",
              "      <th>token_type_ids</th>\n",
              "      <th>attention_mask</th>\n",
              "      <th>bert_embeddings</th>\n",
              "    </tr>\n",
              "  </thead>\n",
              "  <tbody>\n",
              "    <tr>\n",
              "      <th>0</th>\n",
              "      <td>2531329</td>\n",
              "      <td>U0</td>\n",
              "      <td>2531329_0</td>\n",
              "      <td>4</td>\n",
              "      <td>Why do some men spit into the urinal before ur...</td>\n",
              "      <td>I do it all the time.  It is kind of a ritual ...</td>\n",
              "      <td>[101, 2339, 2079, 2070, 2273, 13183, 2046, 199...</td>\n",
              "      <td>[0, 0, 0, 0, 0, 0, 0, 0, 0, 0, 0, 0, 0, 0, 0, ...</td>\n",
              "      <td>[1, 1, 1, 1, 1, 1, 1, 1, 1, 1, 1, 1, 1, 1, 1, ...</td>\n",
              "      <td>[0.05681726, 0.2980671, -0.12610446, -0.366616...</td>\n",
              "    </tr>\n",
              "    <tr>\n",
              "      <th>1</th>\n",
              "      <td>2531329</td>\n",
              "      <td>Q0</td>\n",
              "      <td>2531329_5</td>\n",
              "      <td>4</td>\n",
              "      <td>Why do some men spit into the urinal before ur...</td>\n",
              "      <td>To clear out the mucus deep down in the throat...</td>\n",
              "      <td>[101, 2339, 2079, 2070, 2273, 13183, 2046, 199...</td>\n",
              "      <td>[0, 0, 0, 0, 0, 0, 0, 0, 0, 0, 0, 0, 0, 0, 0, ...</td>\n",
              "      <td>[1, 1, 1, 1, 1, 1, 1, 1, 1, 1, 1, 1, 1, 1, 1, ...</td>\n",
              "      <td>[-0.40824068, 0.6845711, -0.53848433, -0.36029...</td>\n",
              "    </tr>\n",
              "    <tr>\n",
              "      <th>2</th>\n",
              "      <td>2531329</td>\n",
              "      <td>Q0</td>\n",
              "      <td>2531329_4</td>\n",
              "      <td>3</td>\n",
              "      <td>Why do some men spit into the urinal before ur...</td>\n",
              "      <td>maybe they want a target to hit.  Well, I gues...</td>\n",
              "      <td>[101, 2339, 2079, 2070, 2273, 13183, 2046, 199...</td>\n",
              "      <td>[0, 0, 0, 0, 0, 0, 0, 0, 0, 0, 0, 0, 0, 0, 0, ...</td>\n",
              "      <td>[1, 1, 1, 1, 1, 1, 1, 1, 1, 1, 1, 1, 1, 1, 1, ...</td>\n",
              "      <td>[-0.52939916, 0.5299391, -0.4963811, -0.319871...</td>\n",
              "    </tr>\n",
              "    <tr>\n",
              "      <th>3</th>\n",
              "      <td>2531329</td>\n",
              "      <td>Q0</td>\n",
              "      <td>2531329_7</td>\n",
              "      <td>3</td>\n",
              "      <td>Why do some men spit into the urinal before ur...</td>\n",
              "      <td>Where else would we spit?... Apart from sports...</td>\n",
              "      <td>[101, 2339, 2079, 2070, 2273, 13183, 2046, 199...</td>\n",
              "      <td>[0, 0, 0, 0, 0, 0, 0, 0, 0, 0, 0, 0, 0, 0, 0, ...</td>\n",
              "      <td>[1, 1, 1, 1, 1, 1, 1, 1, 1, 1, 1, 1, 1, 1, 1, ...</td>\n",
              "      <td>[-0.2236495, 0.45706183, -0.39957872, -0.45759...</td>\n",
              "    </tr>\n",
              "    <tr>\n",
              "      <th>4</th>\n",
              "      <td>2531329</td>\n",
              "      <td>Q0</td>\n",
              "      <td>2531329_6</td>\n",
              "      <td>3</td>\n",
              "      <td>Why do some men spit into the urinal before ur...</td>\n",
              "      <td>Because they have a cough or phlegm and hacked...</td>\n",
              "      <td>[101, 2339, 2079, 2070, 2273, 13183, 2046, 199...</td>\n",
              "      <td>[0, 0, 0, 0, 0, 0, 0, 0, 0, 0, 0, 0, 0, 0, 0, ...</td>\n",
              "      <td>[1, 1, 1, 1, 1, 1, 1, 1, 1, 1, 1, 1, 1, 1, 1, ...</td>\n",
              "      <td>[-0.26474723, 0.3622378, -0.37632445, -0.52224...</td>\n",
              "    </tr>\n",
              "    <tr>\n",
              "      <th>...</th>\n",
              "      <td>...</td>\n",
              "      <td>...</td>\n",
              "      <td>...</td>\n",
              "      <td>...</td>\n",
              "      <td>...</td>\n",
              "      <td>...</td>\n",
              "      <td>...</td>\n",
              "      <td>...</td>\n",
              "      <td>...</td>\n",
              "      <td>...</td>\n",
              "    </tr>\n",
              "    <tr>\n",
              "      <th>27401</th>\n",
              "      <td>884731</td>\n",
              "      <td>U0</td>\n",
              "      <td>884731_0</td>\n",
              "      <td>4</td>\n",
              "      <td>What does the word Padre mean in english?</td>\n",
              "      <td>Padre is a word used in both Spanish and Portu...</td>\n",
              "      <td>[101, 2054, 2515, 1996, 2773, 28612, 2812, 199...</td>\n",
              "      <td>[0, 0, 0, 0, 0, 0, 0, 0, 0, 0, 0, 1, 1, 1, 1, ...</td>\n",
              "      <td>[1, 1, 1, 1, 1, 1, 1, 1, 1, 1, 1, 1, 1, 1, 1, ...</td>\n",
              "      <td>[-0.5623697, 0.4166778, -0.59484327, -0.324400...</td>\n",
              "    </tr>\n",
              "    <tr>\n",
              "      <th>27402</th>\n",
              "      <td>884731</td>\n",
              "      <td>Q0</td>\n",
              "      <td>884731_4</td>\n",
              "      <td>4</td>\n",
              "      <td>What does the word Padre mean in english?</td>\n",
              "      <td>Father</td>\n",
              "      <td>[101, 2054, 2515, 1996, 2773, 28612, 2812, 199...</td>\n",
              "      <td>[0, 0, 0, 0, 0, 0, 0, 0, 0, 0, 0, 1, 1, 0, 0, ...</td>\n",
              "      <td>[1, 1, 1, 1, 1, 1, 1, 1, 1, 1, 1, 1, 1, 0, 0, ...</td>\n",
              "      <td>[-0.28291002, 0.19619924, 0.1452271, -0.223253...</td>\n",
              "    </tr>\n",
              "    <tr>\n",
              "      <th>27403</th>\n",
              "      <td>884731</td>\n",
              "      <td>Q0</td>\n",
              "      <td>884731_2</td>\n",
              "      <td>4</td>\n",
              "      <td>What does the word Padre mean in english?</td>\n",
              "      <td>the word padre in english means \"father\"</td>\n",
              "      <td>[101, 2054, 2515, 1996, 2773, 28612, 2812, 199...</td>\n",
              "      <td>[0, 0, 0, 0, 0, 0, 0, 0, 0, 0, 0, 1, 1, 1, 1, ...</td>\n",
              "      <td>[1, 1, 1, 1, 1, 1, 1, 1, 1, 1, 1, 1, 1, 1, 1, ...</td>\n",
              "      <td>[-0.64837384, 0.5308057, -0.57113624, -0.39678...</td>\n",
              "    </tr>\n",
              "    <tr>\n",
              "      <th>27404</th>\n",
              "      <td>884731</td>\n",
              "      <td>Q0</td>\n",
              "      <td>884731_3</td>\n",
              "      <td>4</td>\n",
              "      <td>What does the word Padre mean in english?</td>\n",
              "      <td>Father.</td>\n",
              "      <td>[101, 2054, 2515, 1996, 2773, 28612, 2812, 199...</td>\n",
              "      <td>[0, 0, 0, 0, 0, 0, 0, 0, 0, 0, 0, 1, 1, 1, 0, ...</td>\n",
              "      <td>[1, 1, 1, 1, 1, 1, 1, 1, 1, 1, 1, 1, 1, 1, 0, ...</td>\n",
              "      <td>[-0.37813485, 0.2946631, 0.05168551, -0.246607...</td>\n",
              "    </tr>\n",
              "    <tr>\n",
              "      <th>27405</th>\n",
              "      <td>884731</td>\n",
              "      <td>Q0</td>\n",
              "      <td>884731_1</td>\n",
              "      <td>3</td>\n",
              "      <td>What does the word Padre mean in english?</td>\n",
              "      <td>I think it either means father or brother.  I ...</td>\n",
              "      <td>[101, 2054, 2515, 1996, 2773, 28612, 2812, 199...</td>\n",
              "      <td>[0, 0, 0, 0, 0, 0, 0, 0, 0, 0, 0, 1, 1, 1, 1, ...</td>\n",
              "      <td>[1, 1, 1, 1, 1, 1, 1, 1, 1, 1, 1, 1, 1, 1, 1, ...</td>\n",
              "      <td>[-0.5553252, 0.4541003, -0.37120673, -0.533768...</td>\n",
              "    </tr>\n",
              "  </tbody>\n",
              "</table>\n",
              "<p>27406 rows × 10 columns</p>\n",
              "</div>"
            ],
            "text/plain": [
              "       query_id  ...                                    bert_embeddings\n",
              "0       2531329  ...  [0.05681726, 0.2980671, -0.12610446, -0.366616...\n",
              "1       2531329  ...  [-0.40824068, 0.6845711, -0.53848433, -0.36029...\n",
              "2       2531329  ...  [-0.52939916, 0.5299391, -0.4963811, -0.319871...\n",
              "3       2531329  ...  [-0.2236495, 0.45706183, -0.39957872, -0.45759...\n",
              "4       2531329  ...  [-0.26474723, 0.3622378, -0.37632445, -0.52224...\n",
              "...         ...  ...                                                ...\n",
              "27401    884731  ...  [-0.5623697, 0.4166778, -0.59484327, -0.324400...\n",
              "27402    884731  ...  [-0.28291002, 0.19619924, 0.1452271, -0.223253...\n",
              "27403    884731  ...  [-0.64837384, 0.5308057, -0.57113624, -0.39678...\n",
              "27404    884731  ...  [-0.37813485, 0.2946631, 0.05168551, -0.246607...\n",
              "27405    884731  ...  [-0.5553252, 0.4541003, -0.37120673, -0.533768...\n",
              "\n",
              "[27406 rows x 10 columns]"
            ]
          },
          "metadata": {
            "tags": []
          },
          "execution_count": 6
        }
      ]
    },
    {
      "cell_type": "code",
      "metadata": {
        "id": "98EpnlGsm0RW",
        "colab_type": "code",
        "colab": {
          "base_uri": "https://localhost:8080/",
          "height": 649
        },
        "outputId": "3d3850e2-da97-4e9a-9b33-3f422f550fa8"
      },
      "source": [
        "test_df.head()"
      ],
      "execution_count": 7,
      "outputs": [
        {
          "output_type": "execute_result",
          "data": {
            "text/html": [
              "<div>\n",
              "<style scoped>\n",
              "    .dataframe tbody tr th:only-of-type {\n",
              "        vertical-align: middle;\n",
              "    }\n",
              "\n",
              "    .dataframe tbody tr th {\n",
              "        vertical-align: top;\n",
              "    }\n",
              "\n",
              "    .dataframe thead th {\n",
              "        text-align: right;\n",
              "    }\n",
              "</style>\n",
              "<table border=\"1\" class=\"dataframe\">\n",
              "  <thead>\n",
              "    <tr style=\"text-align: right;\">\n",
              "      <th></th>\n",
              "      <th>query_id</th>\n",
              "      <th>source</th>\n",
              "      <th>doc_id</th>\n",
              "      <th>relevance</th>\n",
              "      <th>query</th>\n",
              "      <th>doc</th>\n",
              "      <th>input_ids</th>\n",
              "      <th>token_type_ids</th>\n",
              "      <th>attention_mask</th>\n",
              "      <th>bert_embeddings</th>\n",
              "    </tr>\n",
              "  </thead>\n",
              "  <tbody>\n",
              "    <tr>\n",
              "      <th>0</th>\n",
              "      <td>1964316</td>\n",
              "      <td>U0</td>\n",
              "      <td>1964316_5</td>\n",
              "      <td>4</td>\n",
              "      <td>What do you mean by \"weed\"?</td>\n",
              "      <td>Weed could mean the bad thing that grow in ur ...</td>\n",
              "      <td>[101, 2054, 2079, 2017, 2812, 2011, 1000, 1790...</td>\n",
              "      <td>[0, 0, 0, 0, 0, 0, 0, 0, 0, 0, 0, 1, 1, 1, 1, ...</td>\n",
              "      <td>[1, 1, 1, 1, 1, 1, 1, 1, 1, 1, 1, 1, 1, 1, 1, ...</td>\n",
              "      <td>[-0.117683396, 0.38120887, -0.8148023, -0.2977...</td>\n",
              "    </tr>\n",
              "    <tr>\n",
              "      <th>1</th>\n",
              "      <td>1964316</td>\n",
              "      <td>Q0</td>\n",
              "      <td>1674088_11</td>\n",
              "      <td>1</td>\n",
              "      <td>What do you mean by \"weed\"?</td>\n",
              "      <td>sell weed</td>\n",
              "      <td>[101, 2054, 2079, 2017, 2812, 2011, 1000, 1790...</td>\n",
              "      <td>[0, 0, 0, 0, 0, 0, 0, 0, 0, 0, 0, 1, 1, 1, 0, ...</td>\n",
              "      <td>[1, 1, 1, 1, 1, 1, 1, 1, 1, 1, 1, 1, 1, 1, 0, ...</td>\n",
              "      <td>[-0.18537731, 0.26467037, -0.7377305, -0.18130...</td>\n",
              "    </tr>\n",
              "    <tr>\n",
              "      <th>2</th>\n",
              "      <td>1964316</td>\n",
              "      <td>Q0</td>\n",
              "      <td>1218838_13</td>\n",
              "      <td>2</td>\n",
              "      <td>What do you mean by \"weed\"?</td>\n",
              "      <td>My weed!!</td>\n",
              "      <td>[101, 2054, 2079, 2017, 2812, 2011, 1000, 1790...</td>\n",
              "      <td>[0, 0, 0, 0, 0, 0, 0, 0, 0, 0, 0, 1, 1, 1, 1, ...</td>\n",
              "      <td>[1, 1, 1, 1, 1, 1, 1, 1, 1, 1, 1, 1, 1, 1, 1, ...</td>\n",
              "      <td>[-0.00073738396, 0.24537405, -0.50234264, -0.4...</td>\n",
              "    </tr>\n",
              "    <tr>\n",
              "      <th>3</th>\n",
              "      <td>1964316</td>\n",
              "      <td>Q0</td>\n",
              "      <td>1519022_15</td>\n",
              "      <td>2</td>\n",
              "      <td>What do you mean by \"weed\"?</td>\n",
              "      <td>because we dont know what the hell to make leg...</td>\n",
              "      <td>[101, 2054, 2079, 2017, 2812, 2011, 1000, 1790...</td>\n",
              "      <td>[0, 0, 0, 0, 0, 0, 0, 0, 0, 0, 0, 1, 1, 1, 1, ...</td>\n",
              "      <td>[1, 1, 1, 1, 1, 1, 1, 1, 1, 1, 1, 1, 1, 1, 1, ...</td>\n",
              "      <td>[-0.31584862, 0.08820932, -0.56504595, -0.2485...</td>\n",
              "    </tr>\n",
              "    <tr>\n",
              "      <th>4</th>\n",
              "      <td>1964316</td>\n",
              "      <td>Q0</td>\n",
              "      <td>3059341_5</td>\n",
              "      <td>2</td>\n",
              "      <td>What do you mean by \"weed\"?</td>\n",
              "      <td>Its a weed.</td>\n",
              "      <td>[101, 2054, 2079, 2017, 2812, 2011, 1000, 1790...</td>\n",
              "      <td>[0, 0, 0, 0, 0, 0, 0, 0, 0, 0, 0, 1, 1, 1, 1, ...</td>\n",
              "      <td>[1, 1, 1, 1, 1, 1, 1, 1, 1, 1, 1, 1, 1, 1, 1, ...</td>\n",
              "      <td>[-0.13292149, 0.30342782, -0.52649224, -0.3847...</td>\n",
              "    </tr>\n",
              "  </tbody>\n",
              "</table>\n",
              "</div>"
            ],
            "text/plain": [
              "   query_id  ...                                    bert_embeddings\n",
              "0   1964316  ...  [-0.117683396, 0.38120887, -0.8148023, -0.2977...\n",
              "1   1964316  ...  [-0.18537731, 0.26467037, -0.7377305, -0.18130...\n",
              "2   1964316  ...  [-0.00073738396, 0.24537405, -0.50234264, -0.4...\n",
              "3   1964316  ...  [-0.31584862, 0.08820932, -0.56504595, -0.2485...\n",
              "4   1964316  ...  [-0.13292149, 0.30342782, -0.52649224, -0.3847...\n",
              "\n",
              "[5 rows x 10 columns]"
            ]
          },
          "metadata": {
            "tags": []
          },
          "execution_count": 7
        }
      ]
    },
    {
      "cell_type": "code",
      "metadata": {
        "id": "AFF9YhRMm9iY",
        "colab_type": "code",
        "colab": {}
      },
      "source": [
        "def group_by_query(test_df):\n",
        "  unique_queries = test_df['query_id'].unique()\n",
        "  result = pd.DataFrame()\n",
        "  for query_id in unique_queries:\n",
        "      test = test_df.loc[test_df['query_id'] == query_id]\n",
        "      query = test['query'].iloc[0]\n",
        "      total = test.count()[0]\n",
        "      number = list_size - (total % list_size)\n",
        "      for i in range(number):\n",
        "          line = pd.DataFrame({'query_id': query_id,\n",
        "                              'source': 'Generated',\n",
        "                                'doc_id': '-1',\n",
        "                              'relevance': '-1',\n",
        "                                'doc': 'filler',\n",
        "                              'query': str(query),\n",
        "                              'input_ids': str([-1 for _ in range(512)]),\n",
        "                              'token_type_ids': str([-1 for _ in range(512)]),\n",
        "                              'attention_mask': str([0 for _ in range(512)]),\n",
        "                              'bert_embeddings': str([-1 for _ in range(number_of_features)])\n",
        "                              }, index=[i])\n",
        "          test = test.append(line, ignore_index=False)\n",
        "      test = test.sample(frac=1).reset_index(drop=True)\n",
        "      result = result.append(test, ignore_index=False)\n",
        "  result.reset_index(drop=True, inplace=True)\n",
        "  return result"
      ],
      "execution_count": 8,
      "outputs": []
    },
    {
      "cell_type": "code",
      "metadata": {
        "id": "KPTdqzZcBeR6",
        "colab_type": "code",
        "colab": {
          "base_uri": "https://localhost:8080/",
          "height": 34
        },
        "outputId": "23dc91b8-5c86-43c3-84d5-33184b754dd0"
      },
      "source": [
        "added_valid_index = (int(len(added_train_df) * (1 - valid_set_ratio) // list_size) * list_size)\n",
        "print(added_valid_index)\n",
        "added_vali_df = added_train_df[added_valid_index:len(added_train_df)]\n",
        "added_vali_df.reset_index(drop= True, inplace=True)\n",
        "added_train_df = added_train_df[0:added_valid_index]"
      ],
      "execution_count": 9,
      "outputs": [
        {
          "output_type": "stream",
          "text": [
            "38530\n"
          ],
          "name": "stdout"
        }
      ]
    },
    {
      "cell_type": "code",
      "metadata": {
        "id": "TGkxco_CZuDs",
        "colab_type": "code",
        "colab": {
          "base_uri": "https://localhost:8080/",
          "height": 34
        },
        "outputId": "b0c26aff-1923-4a21-b235-57891648570e"
      },
      "source": [
        "valid_index = (int(len(train_df) * (1 - valid_set_ratio) // list_size) * list_size)\n",
        "print(valid_index)\n",
        "vali_df = train_df[valid_index:len(train_df)]\n",
        "vali_df.reset_index(drop= True, inplace=True)\n",
        "train_df = train_df[0:valid_index]"
      ],
      "execution_count": 10,
      "outputs": [
        {
          "output_type": "stream",
          "text": [
            "23290\n"
          ],
          "name": "stdout"
        }
      ]
    },
    {
      "cell_type": "code",
      "metadata": {
        "id": "hQ-iv3zOqIiV",
        "colab_type": "code",
        "colab": {}
      },
      "source": [
        "test_df = group_by_query(test_df)"
      ],
      "execution_count": 11,
      "outputs": []
    },
    {
      "cell_type": "code",
      "metadata": {
        "scrolled": true,
        "id": "FXdknej6BeR8",
        "colab_type": "code",
        "colab": {
          "base_uri": "https://localhost:8080/",
          "height": 102
        },
        "outputId": "321e52d6-de90-4e84-80a6-4618a041fcc3"
      },
      "source": [
        "print(len(added_train_df))\n",
        "print(len(added_vali_df))\n",
        "print(len(train_df))\n",
        "print(len(vali_df))\n",
        "print(len(test_df))"
      ],
      "execution_count": 12,
      "outputs": [
        {
          "output_type": "stream",
          "text": [
            "38530\n",
            "6810\n",
            "23290\n",
            "4116\n",
            "7720\n"
          ],
          "name": "stdout"
        }
      ]
    },
    {
      "cell_type": "code",
      "metadata": {
        "id": "MOd-VyP0BeR9",
        "colab_type": "code",
        "colab": {
          "base_uri": "https://localhost:8080/",
          "height": 317
        },
        "outputId": "49432da5-a044-4100-b756-12e10276637a"
      },
      "source": [
        "# Showing the average number of documents per query\n",
        "added_train_df.groupby(['query_id']).count().describe()"
      ],
      "execution_count": 13,
      "outputs": [
        {
          "output_type": "execute_result",
          "data": {
            "text/html": [
              "<div>\n",
              "<style scoped>\n",
              "    .dataframe tbody tr th:only-of-type {\n",
              "        vertical-align: middle;\n",
              "    }\n",
              "\n",
              "    .dataframe tbody tr th {\n",
              "        vertical-align: top;\n",
              "    }\n",
              "\n",
              "    .dataframe thead th {\n",
              "        text-align: right;\n",
              "    }\n",
              "</style>\n",
              "<table border=\"1\" class=\"dataframe\">\n",
              "  <thead>\n",
              "    <tr style=\"text-align: right;\">\n",
              "      <th></th>\n",
              "      <th>source</th>\n",
              "      <th>doc_id</th>\n",
              "      <th>relevance</th>\n",
              "      <th>query</th>\n",
              "      <th>doc</th>\n",
              "      <th>input_ids</th>\n",
              "      <th>token_type_ids</th>\n",
              "      <th>attention_mask</th>\n",
              "      <th>bert_embeddings</th>\n",
              "    </tr>\n",
              "  </thead>\n",
              "  <tbody>\n",
              "    <tr>\n",
              "      <th>count</th>\n",
              "      <td>2095.000000</td>\n",
              "      <td>2095.000000</td>\n",
              "      <td>2095.000000</td>\n",
              "      <td>2095.000000</td>\n",
              "      <td>2095.000000</td>\n",
              "      <td>2095.000000</td>\n",
              "      <td>2095.000000</td>\n",
              "      <td>2095.000000</td>\n",
              "      <td>2095.000000</td>\n",
              "    </tr>\n",
              "    <tr>\n",
              "      <th>mean</th>\n",
              "      <td>18.391408</td>\n",
              "      <td>18.391408</td>\n",
              "      <td>18.391408</td>\n",
              "      <td>18.391408</td>\n",
              "      <td>18.391408</td>\n",
              "      <td>18.391408</td>\n",
              "      <td>18.391408</td>\n",
              "      <td>18.391408</td>\n",
              "      <td>18.391408</td>\n",
              "    </tr>\n",
              "    <tr>\n",
              "      <th>std</th>\n",
              "      <td>14.136716</td>\n",
              "      <td>14.136716</td>\n",
              "      <td>14.136716</td>\n",
              "      <td>14.136716</td>\n",
              "      <td>14.136716</td>\n",
              "      <td>14.136716</td>\n",
              "      <td>14.136716</td>\n",
              "      <td>14.136716</td>\n",
              "      <td>14.136716</td>\n",
              "    </tr>\n",
              "    <tr>\n",
              "      <th>min</th>\n",
              "      <td>10.000000</td>\n",
              "      <td>10.000000</td>\n",
              "      <td>10.000000</td>\n",
              "      <td>10.000000</td>\n",
              "      <td>10.000000</td>\n",
              "      <td>10.000000</td>\n",
              "      <td>10.000000</td>\n",
              "      <td>10.000000</td>\n",
              "      <td>10.000000</td>\n",
              "    </tr>\n",
              "    <tr>\n",
              "      <th>25%</th>\n",
              "      <td>10.000000</td>\n",
              "      <td>10.000000</td>\n",
              "      <td>10.000000</td>\n",
              "      <td>10.000000</td>\n",
              "      <td>10.000000</td>\n",
              "      <td>10.000000</td>\n",
              "      <td>10.000000</td>\n",
              "      <td>10.000000</td>\n",
              "      <td>10.000000</td>\n",
              "    </tr>\n",
              "    <tr>\n",
              "      <th>50%</th>\n",
              "      <td>10.000000</td>\n",
              "      <td>10.000000</td>\n",
              "      <td>10.000000</td>\n",
              "      <td>10.000000</td>\n",
              "      <td>10.000000</td>\n",
              "      <td>10.000000</td>\n",
              "      <td>10.000000</td>\n",
              "      <td>10.000000</td>\n",
              "      <td>10.000000</td>\n",
              "    </tr>\n",
              "    <tr>\n",
              "      <th>75%</th>\n",
              "      <td>20.000000</td>\n",
              "      <td>20.000000</td>\n",
              "      <td>20.000000</td>\n",
              "      <td>20.000000</td>\n",
              "      <td>20.000000</td>\n",
              "      <td>20.000000</td>\n",
              "      <td>20.000000</td>\n",
              "      <td>20.000000</td>\n",
              "      <td>20.000000</td>\n",
              "    </tr>\n",
              "    <tr>\n",
              "      <th>max</th>\n",
              "      <td>160.000000</td>\n",
              "      <td>160.000000</td>\n",
              "      <td>160.000000</td>\n",
              "      <td>160.000000</td>\n",
              "      <td>160.000000</td>\n",
              "      <td>160.000000</td>\n",
              "      <td>160.000000</td>\n",
              "      <td>160.000000</td>\n",
              "      <td>160.000000</td>\n",
              "    </tr>\n",
              "  </tbody>\n",
              "</table>\n",
              "</div>"
            ],
            "text/plain": [
              "            source       doc_id  ...  attention_mask  bert_embeddings\n",
              "count  2095.000000  2095.000000  ...     2095.000000      2095.000000\n",
              "mean     18.391408    18.391408  ...       18.391408        18.391408\n",
              "std      14.136716    14.136716  ...       14.136716        14.136716\n",
              "min      10.000000    10.000000  ...       10.000000        10.000000\n",
              "25%      10.000000    10.000000  ...       10.000000        10.000000\n",
              "50%      10.000000    10.000000  ...       10.000000        10.000000\n",
              "75%      20.000000    20.000000  ...       20.000000        20.000000\n",
              "max     160.000000   160.000000  ...      160.000000       160.000000\n",
              "\n",
              "[8 rows x 9 columns]"
            ]
          },
          "metadata": {
            "tags": []
          },
          "execution_count": 13
        }
      ]
    },
    {
      "cell_type": "code",
      "metadata": {
        "id": "sKU7p4uqBeR_",
        "colab_type": "code",
        "colab": {
          "base_uri": "https://localhost:8080/",
          "height": 450
        },
        "outputId": "75ca8bd0-7f1a-4b0a-f6b3-e562e9af2c3a"
      },
      "source": [
        "# Showing number of documents per query_id\n",
        "added_train_df.groupby('query_id').count()"
      ],
      "execution_count": 14,
      "outputs": [
        {
          "output_type": "execute_result",
          "data": {
            "text/html": [
              "<div>\n",
              "<style scoped>\n",
              "    .dataframe tbody tr th:only-of-type {\n",
              "        vertical-align: middle;\n",
              "    }\n",
              "\n",
              "    .dataframe tbody tr th {\n",
              "        vertical-align: top;\n",
              "    }\n",
              "\n",
              "    .dataframe thead th {\n",
              "        text-align: right;\n",
              "    }\n",
              "</style>\n",
              "<table border=\"1\" class=\"dataframe\">\n",
              "  <thead>\n",
              "    <tr style=\"text-align: right;\">\n",
              "      <th></th>\n",
              "      <th>source</th>\n",
              "      <th>doc_id</th>\n",
              "      <th>relevance</th>\n",
              "      <th>query</th>\n",
              "      <th>doc</th>\n",
              "      <th>input_ids</th>\n",
              "      <th>token_type_ids</th>\n",
              "      <th>attention_mask</th>\n",
              "      <th>bert_embeddings</th>\n",
              "    </tr>\n",
              "    <tr>\n",
              "      <th>query_id</th>\n",
              "      <th></th>\n",
              "      <th></th>\n",
              "      <th></th>\n",
              "      <th></th>\n",
              "      <th></th>\n",
              "      <th></th>\n",
              "      <th></th>\n",
              "      <th></th>\n",
              "      <th></th>\n",
              "    </tr>\n",
              "  </thead>\n",
              "  <tbody>\n",
              "    <tr>\n",
              "      <th>751</th>\n",
              "      <td>20</td>\n",
              "      <td>20</td>\n",
              "      <td>20</td>\n",
              "      <td>20</td>\n",
              "      <td>20</td>\n",
              "      <td>20</td>\n",
              "      <td>20</td>\n",
              "      <td>20</td>\n",
              "      <td>20</td>\n",
              "    </tr>\n",
              "    <tr>\n",
              "      <th>1763</th>\n",
              "      <td>20</td>\n",
              "      <td>20</td>\n",
              "      <td>20</td>\n",
              "      <td>20</td>\n",
              "      <td>20</td>\n",
              "      <td>20</td>\n",
              "      <td>20</td>\n",
              "      <td>20</td>\n",
              "      <td>20</td>\n",
              "    </tr>\n",
              "    <tr>\n",
              "      <th>2704</th>\n",
              "      <td>40</td>\n",
              "      <td>40</td>\n",
              "      <td>40</td>\n",
              "      <td>40</td>\n",
              "      <td>40</td>\n",
              "      <td>40</td>\n",
              "      <td>40</td>\n",
              "      <td>40</td>\n",
              "      <td>40</td>\n",
              "    </tr>\n",
              "    <tr>\n",
              "      <th>3961</th>\n",
              "      <td>30</td>\n",
              "      <td>30</td>\n",
              "      <td>30</td>\n",
              "      <td>30</td>\n",
              "      <td>30</td>\n",
              "      <td>30</td>\n",
              "      <td>30</td>\n",
              "      <td>30</td>\n",
              "      <td>30</td>\n",
              "    </tr>\n",
              "    <tr>\n",
              "      <th>4409</th>\n",
              "      <td>10</td>\n",
              "      <td>10</td>\n",
              "      <td>10</td>\n",
              "      <td>10</td>\n",
              "      <td>10</td>\n",
              "      <td>10</td>\n",
              "      <td>10</td>\n",
              "      <td>10</td>\n",
              "      <td>10</td>\n",
              "    </tr>\n",
              "    <tr>\n",
              "      <th>...</th>\n",
              "      <td>...</td>\n",
              "      <td>...</td>\n",
              "      <td>...</td>\n",
              "      <td>...</td>\n",
              "      <td>...</td>\n",
              "      <td>...</td>\n",
              "      <td>...</td>\n",
              "      <td>...</td>\n",
              "      <td>...</td>\n",
              "    </tr>\n",
              "    <tr>\n",
              "      <th>4473502</th>\n",
              "      <td>10</td>\n",
              "      <td>10</td>\n",
              "      <td>10</td>\n",
              "      <td>10</td>\n",
              "      <td>10</td>\n",
              "      <td>10</td>\n",
              "      <td>10</td>\n",
              "      <td>10</td>\n",
              "      <td>10</td>\n",
              "    </tr>\n",
              "    <tr>\n",
              "      <th>4477752</th>\n",
              "      <td>10</td>\n",
              "      <td>10</td>\n",
              "      <td>10</td>\n",
              "      <td>10</td>\n",
              "      <td>10</td>\n",
              "      <td>10</td>\n",
              "      <td>10</td>\n",
              "      <td>10</td>\n",
              "      <td>10</td>\n",
              "    </tr>\n",
              "    <tr>\n",
              "      <th>4477858</th>\n",
              "      <td>20</td>\n",
              "      <td>20</td>\n",
              "      <td>20</td>\n",
              "      <td>20</td>\n",
              "      <td>20</td>\n",
              "      <td>20</td>\n",
              "      <td>20</td>\n",
              "      <td>20</td>\n",
              "      <td>20</td>\n",
              "    </tr>\n",
              "    <tr>\n",
              "      <th>4478479</th>\n",
              "      <td>50</td>\n",
              "      <td>50</td>\n",
              "      <td>50</td>\n",
              "      <td>50</td>\n",
              "      <td>50</td>\n",
              "      <td>50</td>\n",
              "      <td>50</td>\n",
              "      <td>50</td>\n",
              "      <td>50</td>\n",
              "    </tr>\n",
              "    <tr>\n",
              "      <th>4481807</th>\n",
              "      <td>10</td>\n",
              "      <td>10</td>\n",
              "      <td>10</td>\n",
              "      <td>10</td>\n",
              "      <td>10</td>\n",
              "      <td>10</td>\n",
              "      <td>10</td>\n",
              "      <td>10</td>\n",
              "      <td>10</td>\n",
              "    </tr>\n",
              "  </tbody>\n",
              "</table>\n",
              "<p>2095 rows × 9 columns</p>\n",
              "</div>"
            ],
            "text/plain": [
              "          source  doc_id  ...  attention_mask  bert_embeddings\n",
              "query_id                  ...                                 \n",
              "751           20      20  ...              20               20\n",
              "1763          20      20  ...              20               20\n",
              "2704          40      40  ...              40               40\n",
              "3961          30      30  ...              30               30\n",
              "4409          10      10  ...              10               10\n",
              "...          ...     ...  ...             ...              ...\n",
              "4473502       10      10  ...              10               10\n",
              "4477752       10      10  ...              10               10\n",
              "4477858       20      20  ...              20               20\n",
              "4478479       50      50  ...              50               50\n",
              "4481807       10      10  ...              10               10\n",
              "\n",
              "[2095 rows x 9 columns]"
            ]
          },
          "metadata": {
            "tags": []
          },
          "execution_count": 14
        }
      ]
    },
    {
      "cell_type": "code",
      "metadata": {
        "id": "Ja4pDhPKBeSB",
        "colab_type": "code",
        "colab": {
          "base_uri": "https://localhost:8080/",
          "height": 102
        },
        "outputId": "8af2148d-f121-495d-efdf-8c6542757fd8"
      },
      "source": [
        "# Distribution of relevance scores per data\n",
        "added_train_df['relevance'].value_counts(normalize=True)"
      ],
      "execution_count": 15,
      "outputs": [
        {
          "output_type": "execute_result",
          "data": {
            "text/plain": [
              "1    0.421853\n",
              "4    0.259201\n",
              "3    0.177316\n",
              "2    0.141630\n",
              "Name: relevance, dtype: float64"
            ]
          },
          "metadata": {
            "tags": []
          },
          "execution_count": 15
        }
      ]
    },
    {
      "cell_type": "code",
      "metadata": {
        "id": "b01FXggBBeSD",
        "colab_type": "code",
        "colab": {
          "base_uri": "https://localhost:8080/",
          "height": 102
        },
        "outputId": "786a9b41-e6d3-4662-f1b6-8b2db99c9337"
      },
      "source": [
        "added_vali_df['relevance'].value_counts(normalize=True)"
      ],
      "execution_count": 16,
      "outputs": [
        {
          "output_type": "execute_result",
          "data": {
            "text/plain": [
              "1    0.433480\n",
              "4    0.255066\n",
              "3    0.182819\n",
              "2    0.128634\n",
              "Name: relevance, dtype: float64"
            ]
          },
          "metadata": {
            "tags": []
          },
          "execution_count": 16
        }
      ]
    },
    {
      "cell_type": "code",
      "metadata": {
        "id": "1sRQbhEFBeSF",
        "colab_type": "code",
        "colab": {
          "base_uri": "https://localhost:8080/",
          "height": 119
        },
        "outputId": "f9d236cc-fb9b-4eb0-b1c9-e5ca6dd1f08d"
      },
      "source": [
        "# -1 is the examples that are padded\n",
        "test_df['relevance'].value_counts(normalize=True)"
      ],
      "execution_count": 17,
      "outputs": [
        {
          "output_type": "execute_result",
          "data": {
            "text/plain": [
              "2     0.313083\n",
              "1     0.212694\n",
              "4     0.172798\n",
              "3     0.154922\n",
              "-1    0.146503\n",
              "Name: relevance, dtype: float64"
            ]
          },
          "metadata": {
            "tags": []
          },
          "execution_count": 17
        }
      ]
    },
    {
      "cell_type": "code",
      "metadata": {
        "id": "Bjuz1u1H48Ov",
        "colab_type": "code",
        "colab": {}
      },
      "source": [
        "def convert_dflist_to_array(series, start):\n",
        "  array = np.array(series[start])\n",
        "  for i in range(start+1,start+len(series)):\n",
        "    array = np.vstack((array, np.array(series[i])))\n",
        "  return array"
      ],
      "execution_count": 18,
      "outputs": []
    },
    {
      "cell_type": "code",
      "metadata": {
        "id": "oVzL21BBBeSG",
        "colab_type": "code",
        "colab": {}
      },
      "source": [
        "# Generator to yield n examples for 1 list for list_wise comparison\n",
        "\n",
        "def generator(dataframe, mode):\n",
        "    length = len(dataframe)\n",
        "    for i in itertools.count(0, list_size):\n",
        "        step = i%length\n",
        "        if step+list_size > length:\n",
        "            if mode == 'test':\n",
        "                return\n",
        "            else:\n",
        "                continue\n",
        "        if mode == 'test' and i>length:\n",
        "          return\n",
        "        array = dataframe['bert_embeddings'][step:step+list_size].apply(lambda data: list(map(lambda x: float(x), data.strip('][').split(', '))))\n",
        "        array = convert_dflist_to_array(array, step)\n",
        "        bert_tensor = tf.constant(array)\n",
        "        labels = tf.constant(dataframe['relevance'][step:step+list_size].astype('int32'))\n",
        "        yield ({'example_list': bert_tensor}, labels)\n",
        "        "
      ],
      "execution_count": 19,
      "outputs": []
    },
    {
      "cell_type": "code",
      "metadata": {
        "id": "6Mq-2NZDBeSI",
        "colab_type": "code",
        "colab": {}
      },
      "source": [
        "# Converting the dataframe into a dataset for Keras training\n",
        "\n",
        "def df_to_dataset(dataframe, batch_size=8, mode='train'):\n",
        "    dataframe = dataframe.copy()\n",
        "    dataframe = dataframe.filter(['query_id', 'bert_embeddings', 'relevance'])\n",
        "    dataset = tf.data.Dataset.from_generator(\n",
        "        lambda: generator(dataframe, mode),\n",
        "        output_types = ({\n",
        "            'example_list': tf.float32,\n",
        "        },\n",
        "        tf.float32\n",
        "        ),\n",
        "        output_shapes = ({\n",
        "            'example_list': tf.TensorShape([list_size, 768])\n",
        "        },\n",
        "        tf.TensorShape(list_size)\n",
        "        )\n",
        "    )\n",
        "    if mode == 'train':\n",
        "        return dataset.shuffle(len(dataframe), reshuffle_each_iteration=False).batch(batch_size, drop_remainder=True)\n",
        "    elif mode == 'test':\n",
        "        return dataset.batch(batch_size, drop_remainder=True)"
      ],
      "execution_count": 20,
      "outputs": []
    },
    {
      "cell_type": "code",
      "metadata": {
        "id": "dcLx_q2NBeSL",
        "colab_type": "code",
        "colab": {}
      },
      "source": [
        "added_train_dataset = df_to_dataset(added_train_df, batch_size, mode='train')"
      ],
      "execution_count": 21,
      "outputs": []
    },
    {
      "cell_type": "code",
      "metadata": {
        "id": "CChltQO1aU0M",
        "colab_type": "code",
        "colab": {}
      },
      "source": [
        "added_vali_dataset = df_to_dataset(added_vali_df, batch_size, mode='train')"
      ],
      "execution_count": 22,
      "outputs": []
    },
    {
      "cell_type": "code",
      "metadata": {
        "id": "fHOQS6xvaWAy",
        "colab_type": "code",
        "colab": {}
      },
      "source": [
        "train_dataset = df_to_dataset(train_df, batch_size, mode='train')"
      ],
      "execution_count": 23,
      "outputs": []
    },
    {
      "cell_type": "code",
      "metadata": {
        "id": "VWGpS0RPBeSO",
        "colab_type": "code",
        "colab": {}
      },
      "source": [
        "vali_dataset = df_to_dataset(vali_df, batch_size, mode='train')"
      ],
      "execution_count": 24,
      "outputs": []
    },
    {
      "cell_type": "code",
      "metadata": {
        "id": "pA0cSpiLBeSP",
        "colab_type": "code",
        "colab": {}
      },
      "source": [
        "test_dataset = df_to_dataset(test_df, 1, mode='test')"
      ],
      "execution_count": 25,
      "outputs": []
    },
    {
      "cell_type": "code",
      "metadata": {
        "scrolled": true,
        "id": "O8qsvob6BeSS",
        "colab_type": "code",
        "colab": {
          "base_uri": "https://localhost:8080/",
          "height": 1000
        },
        "outputId": "18b2989c-e23f-43bb-f2d7-b0ba044a3b4b"
      },
      "source": [
        "list(added_train_dataset.take(1))"
      ],
      "execution_count": 26,
      "outputs": [
        {
          "output_type": "execute_result",
          "data": {
            "text/plain": [
              "[({'example_list': <tf.Tensor: shape=(5, 10, 768), dtype=float32, numpy=\n",
              "   array([[[-0.7622967 ,  0.40911207, -0.40409997, ..., -0.66209024,\n",
              "             0.6379686 ,  0.49087065],\n",
              "           [-0.06332202, -0.07800333,  0.11533423, ...,  0.14967611,\n",
              "             0.10714296, -0.09922576],\n",
              "           [-0.7201666 ,  0.5257171 , -0.3449874 , ..., -0.75787044,\n",
              "             0.54836255,  0.56451076],\n",
              "           ...,\n",
              "           [-0.73570013,  0.40454972, -0.44220483, ..., -0.8338623 ,\n",
              "             0.3480812 ,  0.24750164],\n",
              "           [-0.05657485, -0.19467306,  0.38044325, ...,  0.67741436,\n",
              "            -0.12551907,  0.11917455],\n",
              "           [-0.20052794, -0.11798409,  0.09222409, ..., -0.40529716,\n",
              "             0.19990733,  0.2897965 ]],\n",
              "   \n",
              "          [[-0.10535818,  0.5140592 , -0.30021945, ..., -0.1623317 ,\n",
              "             0.69136477,  0.68749505],\n",
              "           [-0.5161778 ,  0.4434309 , -0.75251603, ..., -0.41203636,\n",
              "             0.7030272 ,  0.3157836 ],\n",
              "           [-0.58219916,  0.4986898 , -0.7227745 , ..., -0.819821  ,\n",
              "             0.75565004,  0.3228525 ],\n",
              "           ...,\n",
              "           [-0.57108164,  0.40209496, -0.74538386, ..., -0.65323156,\n",
              "             0.96329683,  0.08812439],\n",
              "           [-0.3925981 ,  0.297252  , -0.53440213, ..., -0.4513062 ,\n",
              "             0.61092377,  0.6132689 ],\n",
              "           [-0.0174282 ,  0.24136275, -0.15547492, ..., -0.66208947,\n",
              "             0.6437024 ,  0.521037  ]],\n",
              "   \n",
              "          [[ 0.18110707,  0.0167731 ,  0.25476387, ..., -0.00179005,\n",
              "             0.06182038,  0.40933225],\n",
              "           [ 0.18559688,  0.4560847 , -0.06641988, ...,  0.22658013,\n",
              "             0.56258404,  0.48299438],\n",
              "           [-0.2837389 ,  0.4619856 , -0.2268483 , ..., -0.443613  ,\n",
              "             0.4466286 ,  0.4355752 ],\n",
              "           ...,\n",
              "           [-0.22911151,  0.545135  , -0.26177344, ..., -0.39399078,\n",
              "             0.6181123 ,  0.55727035],\n",
              "           [-0.39543292,  0.6663891 , -0.6763098 , ..., -0.52884215,\n",
              "             0.68407065,  0.43747842],\n",
              "           [ 0.02998433,  0.6869056 ,  0.027692  , ..., -0.31824142,\n",
              "             0.5045953 ,  0.3621411 ]],\n",
              "   \n",
              "          [[-0.36060166,  0.5678789 , -0.47445282, ..., -1.0744973 ,\n",
              "             1.253274  ,  0.0403608 ],\n",
              "           [ 0.8126846 , -0.5535048 ,  0.19623645, ...,  0.68513215,\n",
              "             0.21319681,  0.06135897],\n",
              "           [ 0.07528165,  0.16488808, -0.39271495, ..., -0.51905   ,\n",
              "             0.7050108 ,  0.2797264 ],\n",
              "           ...,\n",
              "           [-0.40467054,  0.51297474, -0.53356725, ..., -0.5270641 ,\n",
              "             0.5182495 ,  0.24346481],\n",
              "           [ 0.03595155,  0.39136797, -0.76887625, ..., -0.08041469,\n",
              "             0.5211841 ,  0.64303064],\n",
              "           [ 0.15736741,  0.6087804 , -0.33681098, ..., -0.39880595,\n",
              "             0.6494527 ,  0.3055168 ]],\n",
              "   \n",
              "          [[ 0.242817  , -0.08128554, -0.04330213, ...,  0.26481614,\n",
              "             0.04990206,  0.5568383 ],\n",
              "           [-0.07078633,  0.38247806, -0.37097228, ..., -0.5658149 ,\n",
              "             0.65072143,  0.14475471],\n",
              "           [-0.04203859,  0.09551733, -0.5814501 , ..., -0.26968434,\n",
              "             0.34603757,  0.5319197 ],\n",
              "           ...,\n",
              "           [-0.00735141,  0.10108149, -0.44265953, ..., -0.41767326,\n",
              "             0.4986871 ,  0.28454667],\n",
              "           [-0.11550243,  0.42703748, -0.46583953, ..., -0.5615267 ,\n",
              "             0.5271592 ,  0.25777408],\n",
              "           [ 0.08079544,  0.09982157, -0.7593243 , ..., -0.1644029 ,\n",
              "             0.2250018 ,  0.4606168 ]]], dtype=float32)>},\n",
              "  <tf.Tensor: shape=(5, 10), dtype=float32, numpy=\n",
              "  array([[3., 1., 4., 1., 1., 3., 1., 2., 1., 2.],\n",
              "         [1., 2., 4., 2., 1., 3., 1., 3., 3., 1.],\n",
              "         [1., 2., 4., 1., 1., 1., 3., 4., 4., 3.],\n",
              "         [2., 1., 4., 4., 1., 1., 1., 2., 3., 4.],\n",
              "         [1., 4., 3., 1., 1., 1., 1., 4., 3., 4.]], dtype=float32)>)]"
            ]
          },
          "metadata": {
            "tags": []
          },
          "execution_count": 26
        }
      ]
    },
    {
      "cell_type": "code",
      "metadata": {
        "scrolled": true,
        "id": "B08fQNxtBeSU",
        "colab_type": "code",
        "colab": {
          "base_uri": "https://localhost:8080/",
          "height": 1000
        },
        "outputId": "c9fd64a4-2a83-4524-92f1-f163587785d4"
      },
      "source": [
        "list(train_dataset.take(1))"
      ],
      "execution_count": 27,
      "outputs": [
        {
          "output_type": "execute_result",
          "data": {
            "text/plain": [
              "[({'example_list': <tf.Tensor: shape=(5, 10, 768), dtype=float32, numpy=\n",
              "   array([[[-0.18968944,  0.28414702, -0.11884687, ..., -0.86627805,\n",
              "             0.5533538 ,  0.29857817],\n",
              "           [-0.20198545,  0.3931365 , -0.35243842, ..., -0.450943  ,\n",
              "             0.623665  ,  0.60425466],\n",
              "           [-0.14175965,  0.20546132,  0.024126  , ..., -0.63279825,\n",
              "             0.41184807,  0.5866674 ],\n",
              "           ...,\n",
              "           [-0.46176904,  0.33664045, -0.43156835, ..., -0.6872599 ,\n",
              "             0.604813  ,  0.5729249 ],\n",
              "           [-0.31045055,  0.25500208, -0.44469196, ..., -0.6696809 ,\n",
              "             0.5458633 ,  0.47244644],\n",
              "           [ 0.20649439,  0.2816046 , -0.36790144, ..., -0.533556  ,\n",
              "             0.3326514 ,  0.7051772 ]],\n",
              "   \n",
              "          [[-0.39904383,  0.01918707, -0.28124547, ..., -0.8777137 ,\n",
              "             0.3383457 ,  0.27885383],\n",
              "           [-0.05545785, -0.03856687, -0.60390353, ..., -0.698459  ,\n",
              "             0.13611089,  0.6550308 ],\n",
              "           [-0.09061896,  0.16715598, -0.43279627, ..., -0.56479776,\n",
              "             0.11339864,  0.48737574],\n",
              "           ...,\n",
              "           [-0.36299443,  0.36901477, -0.66792405, ..., -0.77269465,\n",
              "             0.5217125 ,  0.36101252],\n",
              "           [ 0.2739774 , -0.13756853,  0.320791  , ..., -0.14588432,\n",
              "             0.17559984,  0.4862006 ],\n",
              "           [ 0.2549953 ,  0.05447502,  0.02671137, ..., -0.19111624,\n",
              "             0.5384404 ,  0.40782893]],\n",
              "   \n",
              "          [[-0.08654743, -0.00709543, -0.81060016, ..., -0.67289704,\n",
              "             0.4829498 ,  0.57448107],\n",
              "           [-0.8086229 ,  0.12160051, -0.4320246 , ..., -1.1998563 ,\n",
              "             0.6018538 , -0.19561182],\n",
              "           [-0.32838228,  0.08630339, -0.28250197, ..., -0.6728387 ,\n",
              "             0.78572345,  0.37926218],\n",
              "           ...,\n",
              "           [-0.32535478,  0.07428939, -0.2931463 , ..., -0.416494  ,\n",
              "             0.25892457,  0.29091576],\n",
              "           [-0.25607547,  0.3620802 , -0.13900709, ..., -0.65078086,\n",
              "             0.13277301,  0.5097999 ],\n",
              "           [-0.31625605,  0.17955057, -0.28053162, ..., -0.60684246,\n",
              "             0.14378573,  0.48718292]],\n",
              "   \n",
              "          [[-0.18142429,  0.41250575, -0.42204398, ..., -0.81111217,\n",
              "             0.55674505,  0.06746025],\n",
              "           [ 0.06081326,  0.33495125, -0.26113907, ..., -0.61078256,\n",
              "             0.44989908,  0.675846  ],\n",
              "           [-0.20832206,  0.38374907, -0.34846666, ..., -1.022357  ,\n",
              "             0.46295965, -0.166047  ],\n",
              "           ...,\n",
              "           [-0.10196893,  0.49693596,  0.06187406, ..., -0.6233435 ,\n",
              "             0.27275842,  0.18333976],\n",
              "           [-0.03776065,  0.4041711 , -0.07085785, ..., -0.9124519 ,\n",
              "             0.6049617 ,  0.17491695],\n",
              "           [-0.04462894,  0.15144068, -0.23758873, ..., -0.32332724,\n",
              "             0.40438086,  0.81179523]],\n",
              "   \n",
              "          [[-0.01955977,  0.3071153 , -0.89847547, ..., -0.19354704,\n",
              "             0.2209909 ,  0.6195146 ],\n",
              "           [-0.10978077,  0.3732771 , -0.6036732 , ..., -0.53925616,\n",
              "             0.5888313 ,  0.49608678],\n",
              "           [ 0.33620036,  0.22971426, -0.27495325, ..., -0.18002021,\n",
              "             0.19561653,  0.7277167 ],\n",
              "           ...,\n",
              "           [-0.11291096,  0.328506  , -0.34032238, ..., -0.36893517,\n",
              "             0.20544338,  0.37373248],\n",
              "           [-0.23689   ,  0.3036176 , -0.733958  , ..., -0.62812364,\n",
              "             0.47393256,  0.118162  ],\n",
              "           [-0.298416  ,  0.20819929, -0.46096188, ..., -0.5310144 ,\n",
              "             0.6213861 ,  0.25110468]]], dtype=float32)>},\n",
              "  <tf.Tensor: shape=(5, 10), dtype=float32, numpy=\n",
              "  array([[1., 3., 3., 4., 3., 4., 4., 3., 2., 4.],\n",
              "         [4., 1., 4., 4., 1., 4., 2., 3., 2., 3.],\n",
              "         [3., 3., 4., 3., 4., 4., 4., 4., 3., 2.],\n",
              "         [4., 2., 4., 4., 3., 4., 4., 2., 2., 4.],\n",
              "         [3., 4., 4., 4., 3., 4., 4., 4., 4., 4.]], dtype=float32)>)]"
            ]
          },
          "metadata": {
            "tags": []
          },
          "execution_count": 27
        }
      ]
    },
    {
      "cell_type": "code",
      "metadata": {
        "id": "Cg-d75c3BeSW",
        "colab_type": "code",
        "colab": {
          "base_uri": "https://localhost:8080/",
          "height": 292
        },
        "outputId": "bd4e83ba-52fc-4b5f-de4e-9dbd16a3ddb1"
      },
      "source": [
        "list(test_dataset.take(1))"
      ],
      "execution_count": 28,
      "outputs": [
        {
          "output_type": "execute_result",
          "data": {
            "text/plain": [
              "[({'example_list': <tf.Tensor: shape=(1, 10, 768), dtype=float32, numpy=\n",
              "   array([[[-0.23987323,  0.18608159, -0.6528367 , ..., -0.871925  ,\n",
              "             0.62816346,  0.29636678],\n",
              "           [-1.        , -1.        , -1.        , ..., -1.        ,\n",
              "            -1.        , -1.        ],\n",
              "           [-0.14427444,  0.17517442, -0.69948053, ..., -0.9871173 ,\n",
              "             0.40628037,  0.44368178],\n",
              "           ...,\n",
              "           [ 0.0691073 ,  0.15568088, -0.5939702 , ..., -0.7165735 ,\n",
              "             0.5951419 ,  0.5289375 ],\n",
              "           [-0.06951316,  0.17805326, -0.7463974 , ..., -0.76655555,\n",
              "             0.6494951 ,  0.34199873],\n",
              "           [-0.14201826,  0.1795239 , -0.5834667 , ..., -0.9952638 ,\n",
              "             0.47768563,  0.21595344]]], dtype=float32)>},\n",
              "  <tf.Tensor: shape=(1, 10), dtype=float32, numpy=array([[ 4., -1.,  2.,  1.,  2.,  4.,  2.,  2.,  3.,  2.]], dtype=float32)>)]"
            ]
          },
          "metadata": {
            "tags": []
          },
          "execution_count": 28
        }
      ]
    },
    {
      "cell_type": "code",
      "metadata": {
        "id": "_CNyQ0GqBeSY",
        "colab_type": "code",
        "colab": {}
      },
      "source": [
        "# Defining what 1 example is: A dense representation of query-doc pair in the form of\n",
        "# an array of 768 values\n",
        "\n",
        "def example_feature_columns():\n",
        "    embedding_column = tf.feature_column.numeric_column(key='example_list',\n",
        "                                                       shape=(number_of_features))\n",
        "    example_feature_columns = {'example_list': embedding_column}\n",
        "    \n",
        "    \n",
        "    return example_feature_columns"
      ],
      "execution_count": 29,
      "outputs": []
    },
    {
      "cell_type": "code",
      "metadata": {
        "id": "NT37Mzn7BeSZ",
        "colab_type": "code",
        "colab": {}
      },
      "source": [
        "# Using the TF-Ranking library and their DNN Network\n",
        "def get_ranker():\n",
        "\n",
        "  network = tfr.keras.canned.DNNRankingNetwork(\n",
        "      context_feature_columns={},\n",
        "      example_feature_columns=example_feature_columns(),\n",
        "      hidden_layer_dims=[1024, 512, 256],\n",
        "      activation=tf.nn.relu,\n",
        "      dropout=0.5\n",
        "  )\n",
        "  # Using Softmax loss for list_wise inference and NDCG for metrics\n",
        "\n",
        "  #softmax_loss_obj = tfr.keras.losses.get(tfr.losses.RankingLossKey.SOFTMAX_LOSS)\n",
        "  softmax_loss_obj = tfr.keras.losses.get(tfr.losses.RankingLossKey.SOFTMAX_LOSS)\n",
        "  default_metrics = tfr.keras.metrics.default_keras_metrics()\n",
        "\n",
        "  ranker = tfr.keras.model.create_keras_model(\n",
        "    network=network,\n",
        "    loss=softmax_loss_obj,\n",
        "    metrics=default_metrics,\n",
        "    optimizer=tf.keras.optimizers.Adagrad(learning_rate=0.05),\n",
        "    size_feature_name = None\n",
        "  )\n",
        "\n",
        "  return ranker"
      ],
      "execution_count": 30,
      "outputs": []
    },
    {
      "cell_type": "code",
      "metadata": {
        "id": "ZYz8vJqYBeSa",
        "colab_type": "code",
        "colab": {}
      },
      "source": [
        "# network = tfr.keras.canned.GAMRankingNetwork(\n",
        "#     context_feature_columns=None,\n",
        "#     example_feature_columns=example_feature_columns(),\n",
        "#     example_hidden_layer_dims=[1024, 512, 256],\n",
        "#     activation=tf.nn.relu,\n",
        "#     dropout=0.5,\n",
        "#     use_batch_norm=True,\n",
        "#     batch_norm_moment=0.999,\n",
        "#     name=\"gam_ranking_network\")"
      ],
      "execution_count": 31,
      "outputs": []
    },
    {
      "cell_type": "markdown",
      "metadata": {
        "id": "Yk8TanYRBeSd",
        "colab_type": "text"
      },
      "source": [
        "## DCG - Discounted Cumulative Gain\n",
        "DCG is based on the premise that highly relevant documents appearing lower in a search result list should be penalized as the graded relevance value is reduced logarithmically propotional to the result.\n",
        "### DCG at rank position $p$ is defined as:\n",
        "### $DCG_p$ = $rel_1$ + $\\sum_{i=2}^{p} \\frac{2^{rel_i} - 1}{log_2(i+1)}$\t\n",
        "\n",
        "where $rel_i$ is the graded relevance (label) of the result at position $i$\n",
        "\n",
        "## NDCG - Normalized Discounted Cumulative Gain\n",
        "\n",
        "Since search results lists vary in length depending on query, a more consistent approach is to use NDCG where NDCG is defined by sorting all relevant documents by their relative relevance to produce the maximum possible DCG through position $p$ (also known as the Ideal DCG (IDCG)), and taking the search result's DCG divided by the IDCG.\n",
        "\n",
        "### $nDCG_p$ = $\\frac{DCG_p}{IDCG_p}$\n",
        "\n",
        "This means that NDCG@n is the fraction of the DCG of the top n computed search results divided over the DCG of the top n relevant search results."
      ]
    },
    {
      "cell_type": "code",
      "metadata": {
        "id": "Gq55kJ5WBeSd",
        "colab_type": "code",
        "colab": {}
      },
      "source": [
        "ranker = get_ranker()"
      ],
      "execution_count": 32,
      "outputs": []
    },
    {
      "cell_type": "code",
      "metadata": {
        "id": "H1e6sWPKBeSg",
        "colab_type": "code",
        "colab": {
          "base_uri": "https://localhost:8080/",
          "height": 221
        },
        "outputId": "8d1996f6-f7f6-49ab-a7b8-3276ed3f86e6"
      },
      "source": [
        "ranker.summary()"
      ],
      "execution_count": 33,
      "outputs": [
        {
          "output_type": "stream",
          "text": [
            "Model: \"model\"\n",
            "_________________________________________________________________\n",
            "Layer (type)                 Output Shape              Param #   \n",
            "=================================================================\n",
            "example_list (InputLayer)    [(None, None, 768)]       0         \n",
            "_________________________________________________________________\n",
            "dnn_ranking_network (DNNRank (None, None)              1454081   \n",
            "=================================================================\n",
            "Total params: 1,454,081\n",
            "Trainable params: 1,448,961\n",
            "Non-trainable params: 5,120\n",
            "_________________________________________________________________\n"
          ],
          "name": "stdout"
        }
      ]
    },
    {
      "cell_type": "code",
      "metadata": {
        "scrolled": true,
        "id": "ZC1qZNJEBeSi",
        "colab_type": "code",
        "colab": {
          "base_uri": "https://localhost:8080/",
          "height": 510
        },
        "outputId": "25fb426d-7c0f-44bf-ceeb-31c9ca0a2f8b"
      },
      "source": [
        "ranker.get_config()"
      ],
      "execution_count": 34,
      "outputs": [
        {
          "output_type": "execute_result",
          "data": {
            "text/plain": [
              "{'input_layers': {'example_list': ['example_list', 0, 0]},\n",
              " 'layers': [{'class_name': 'InputLayer',\n",
              "   'config': {'batch_input_shape': (None, None, 768),\n",
              "    'dtype': 'float32',\n",
              "    'name': 'example_list',\n",
              "    'ragged': False,\n",
              "    'sparse': False},\n",
              "   'inbound_nodes': [],\n",
              "   'name': 'example_list'},\n",
              "  {'class_name': 'DNNRankingNetwork',\n",
              "   'config': {'activation': 'relu',\n",
              "    'batch_norm_moment': 0.999,\n",
              "    'context_feature_columns': {},\n",
              "    'dropout': 0.5,\n",
              "    'dtype': 'float32',\n",
              "    'example_feature_columns': {'example_list': {'class_name': 'NumericColumn',\n",
              "      'config': {'default_value': None,\n",
              "       'dtype': 'float32',\n",
              "       'key': 'example_list',\n",
              "       'normalizer_fn': None,\n",
              "       'shape': (768,)}}},\n",
              "    'hidden_layer_dims': ListWrapper([1024, 512, 256]),\n",
              "    'name': 'dnn_ranking_network',\n",
              "    'trainable': True,\n",
              "    'use_batch_norm': True},\n",
              "   'inbound_nodes': [{'example_list': ['example_list', 0, 0, {'mask': None}]}],\n",
              "   'name': 'dnn_ranking_network'}],\n",
              " 'name': 'model',\n",
              " 'output_layers': [['dnn_ranking_network', 0, 0]]}"
            ]
          },
          "metadata": {
            "tags": []
          },
          "execution_count": 34
        }
      ]
    },
    {
      "cell_type": "code",
      "metadata": {
        "id": "eZKfiDXhBeSk",
        "colab_type": "code",
        "colab": {}
      },
      "source": [
        "checkpoint = ModelCheckpoint(f'./drive/My Drive/Antique_Dataset/checkpoints/best_weights_added_{trial}.hdf5', monitor='val_metric/ndcg_5', verbose=1, save_best_only=True, mode='max')\n",
        "tsv = CSVLogger(f'./drive/My Drive/Antique_Dataset/outputs/training_stats_added_{trial}.tsv', separator='\\t', append=False)"
      ],
      "execution_count": 35,
      "outputs": []
    },
    {
      "cell_type": "code",
      "metadata": {
        "scrolled": true,
        "id": "Ky9cn5VvBeSm",
        "colab_type": "code",
        "colab": {
          "base_uri": "https://localhost:8080/",
          "height": 1000
        },
        "outputId": "1c605e60-69a3-4196-aafc-53a330df9895"
      },
      "source": [
        "added_hist = ranker.fit(\n",
        "    added_train_dataset,\n",
        "    validation_data=added_vali_dataset,\n",
        "    verbose=1,\n",
        "    steps_per_epoch = int(len(added_train_df) / (batch_size * list_size)),\n",
        "    epochs=20,\n",
        "    validation_steps = int(len(added_vali_df) / (batch_size * list_size)),\n",
        "    callbacks = [checkpoint, tsv]\n",
        ")"
      ],
      "execution_count": 36,
      "outputs": [
        {
          "output_type": "stream",
          "text": [
            "Epoch 1/20\n",
            "769/770 [============================>.] - ETA: 0s - loss: 50.9404 - metric/ndcg_1: 0.7622 - metric/ndcg_3: 0.7911 - metric/ndcg_5: 0.8446 - metric/ndcg_10: 0.9058 - metric/arp: 4.5106 - metric/ordered_pair_accuracy: 0.8358 - metric/mrr: 1.0000 - metric/precision: 1.0000 - metric/map: 1.0000 - metric/dcg: 32.8121 - metric/ndcg: 0.9058\n",
            "Epoch 00001: val_metric/ndcg_5 improved from -inf to 0.87361, saving model to ./drive/My Drive/Antique_Dataset/checkpoints/best_weights_added_tfrbert_1_1234.hdf5\n",
            "770/770 [==============================] - 59s 77ms/step - loss: 50.9330 - metric/ndcg_1: 0.7626 - metric/ndcg_3: 0.7911 - metric/ndcg_5: 0.8447 - metric/ndcg_10: 0.9059 - metric/arp: 4.5103 - metric/ordered_pair_accuracy: 0.8359 - metric/mrr: 1.0000 - metric/precision: 1.0000 - metric/map: 1.0000 - metric/dcg: 32.8100 - metric/ndcg: 0.9059 - val_loss: 50.3634 - val_metric/ndcg_1: 0.8175 - val_metric/ndcg_3: 0.8315 - val_metric/ndcg_5: 0.8736 - val_metric/ndcg_10: 0.9244 - val_metric/arp: 4.4313 - val_metric/ordered_pair_accuracy: 0.8681 - val_metric/mrr: 1.0000 - val_metric/precision: 1.0000 - val_metric/map: 1.0000 - val_metric/dcg: 33.5314 - val_metric/ndcg: 0.9244\n",
            "Epoch 2/20\n",
            "769/770 [============================>.] - ETA: 0s - loss: 50.4006 - metric/ndcg_1: 0.7940 - metric/ndcg_3: 0.8219 - metric/ndcg_5: 0.8677 - metric/ndcg_10: 0.9196 - metric/arp: 4.4505 - metric/ordered_pair_accuracy: 0.8599 - metric/mrr: 1.0000 - metric/precision: 1.0000 - metric/map: 1.0000 - metric/dcg: 33.3525 - metric/ndcg: 0.9196\n",
            "Epoch 00002: val_metric/ndcg_5 improved from 0.87361 to 0.88640, saving model to ./drive/My Drive/Antique_Dataset/checkpoints/best_weights_added_tfrbert_1_1234.hdf5\n",
            "770/770 [==============================] - 58s 75ms/step - loss: 50.4015 - metric/ndcg_1: 0.7943 - metric/ndcg_3: 0.8220 - metric/ndcg_5: 0.8678 - metric/ndcg_10: 0.9196 - metric/arp: 4.4504 - metric/ordered_pair_accuracy: 0.8599 - metric/mrr: 1.0000 - metric/precision: 1.0000 - metric/map: 1.0000 - metric/dcg: 33.3546 - metric/ndcg: 0.9196 - val_loss: 50.3628 - val_metric/ndcg_1: 0.8457 - val_metric/ndcg_3: 0.8457 - val_metric/ndcg_5: 0.8864 - val_metric/ndcg_10: 0.9325 - val_metric/arp: 4.4029 - val_metric/ordered_pair_accuracy: 0.8811 - val_metric/mrr: 1.0000 - val_metric/precision: 1.0000 - val_metric/map: 1.0000 - val_metric/dcg: 33.8210 - val_metric/ndcg: 0.9325\n",
            "Epoch 3/20\n",
            "769/770 [============================>.] - ETA: 0s - loss: 50.2594 - metric/ndcg_1: 0.8045 - metric/ndcg_3: 0.8307 - metric/ndcg_5: 0.8751 - metric/ndcg_10: 0.9235 - metric/arp: 4.4361 - metric/ordered_pair_accuracy: 0.8667 - metric/mrr: 1.0000 - metric/precision: 1.0000 - metric/map: 1.0000 - metric/dcg: 33.3904 - metric/ndcg: 0.9235\n",
            "Epoch 00003: val_metric/ndcg_5 improved from 0.88640 to 0.89189, saving model to ./drive/My Drive/Antique_Dataset/checkpoints/best_weights_added_tfrbert_1_1234.hdf5\n",
            "770/770 [==============================] - 58s 75ms/step - loss: 50.2673 - metric/ndcg_1: 0.8045 - metric/ndcg_3: 0.8306 - metric/ndcg_5: 0.8750 - metric/ndcg_10: 0.9235 - metric/arp: 4.4365 - metric/ordered_pair_accuracy: 0.8666 - metric/mrr: 1.0000 - metric/precision: 1.0000 - metric/map: 1.0000 - metric/dcg: 33.3937 - metric/ndcg: 0.9235 - val_loss: 50.3271 - val_metric/ndcg_1: 0.8572 - val_metric/ndcg_3: 0.8474 - val_metric/ndcg_5: 0.8919 - val_metric/ndcg_10: 0.9358 - val_metric/arp: 4.3925 - val_metric/ordered_pair_accuracy: 0.8855 - val_metric/mrr: 1.0000 - val_metric/precision: 1.0000 - val_metric/map: 1.0000 - val_metric/dcg: 33.9283 - val_metric/ndcg: 0.9358\n",
            "Epoch 4/20\n",
            "769/770 [============================>.] - ETA: 0s - loss: 50.6897 - metric/ndcg_1: 0.8110 - metric/ndcg_3: 0.8308 - metric/ndcg_5: 0.8741 - metric/ndcg_10: 0.9243 - metric/arp: 4.4516 - metric/ordered_pair_accuracy: 0.8650 - metric/mrr: 1.0000 - metric/precision: 1.0000 - metric/map: 1.0000 - metric/dcg: 33.6921 - metric/ndcg: 0.9243\n",
            "Epoch 00004: val_metric/ndcg_5 improved from 0.89189 to 0.89257, saving model to ./drive/My Drive/Antique_Dataset/checkpoints/best_weights_added_tfrbert_1_1234.hdf5\n",
            "770/770 [==============================] - 58s 75ms/step - loss: 50.6880 - metric/ndcg_1: 0.8110 - metric/ndcg_3: 0.8309 - metric/ndcg_5: 0.8741 - metric/ndcg_10: 0.9244 - metric/arp: 4.4515 - metric/ordered_pair_accuracy: 0.8650 - metric/mrr: 1.0000 - metric/precision: 1.0000 - metric/map: 1.0000 - metric/dcg: 33.6911 - metric/ndcg: 0.9244 - val_loss: 50.3286 - val_metric/ndcg_1: 0.8513 - val_metric/ndcg_3: 0.8502 - val_metric/ndcg_5: 0.8926 - val_metric/ndcg_10: 0.9351 - val_metric/arp: 4.3905 - val_metric/ordered_pair_accuracy: 0.8865 - val_metric/mrr: 1.0000 - val_metric/precision: 1.0000 - val_metric/map: 1.0000 - val_metric/dcg: 33.9028 - val_metric/ndcg: 0.9351\n",
            "Epoch 5/20\n",
            "769/770 [============================>.] - ETA: 0s - loss: 50.3970 - metric/ndcg_1: 0.8193 - metric/ndcg_3: 0.8383 - metric/ndcg_5: 0.8803 - metric/ndcg_10: 0.9276 - metric/arp: 4.4274 - metric/ordered_pair_accuracy: 0.8708 - metric/mrr: 1.0000 - metric/precision: 1.0000 - metric/map: 1.0000 - metric/dcg: 33.7509 - metric/ndcg: 0.9276\n",
            "Epoch 00005: val_metric/ndcg_5 did not improve from 0.89257\n",
            "770/770 [==============================] - 57s 74ms/step - loss: 50.3948 - metric/ndcg_1: 0.8190 - metric/ndcg_3: 0.8381 - metric/ndcg_5: 0.8803 - metric/ndcg_10: 0.9275 - metric/arp: 4.4275 - metric/ordered_pair_accuracy: 0.8708 - metric/mrr: 1.0000 - metric/precision: 1.0000 - metric/map: 1.0000 - metric/dcg: 33.7462 - metric/ndcg: 0.9275 - val_loss: 50.2086 - val_metric/ndcg_1: 0.8492 - val_metric/ndcg_3: 0.8481 - val_metric/ndcg_5: 0.8925 - val_metric/ndcg_10: 0.9346 - val_metric/arp: 4.3895 - val_metric/ordered_pair_accuracy: 0.8871 - val_metric/mrr: 1.0000 - val_metric/precision: 1.0000 - val_metric/map: 1.0000 - val_metric/dcg: 33.8839 - val_metric/ndcg: 0.9346\n",
            "Epoch 6/20\n",
            "770/770 [==============================] - ETA: 0s - loss: 50.6923 - metric/ndcg_1: 0.8219 - metric/ndcg_3: 0.8387 - metric/ndcg_5: 0.8825 - metric/ndcg_10: 0.9284 - metric/arp: 4.4254 - metric/ordered_pair_accuracy: 0.8734 - metric/mrr: 1.0000 - metric/precision: 1.0000 - metric/map: 1.0000 - metric/dcg: 34.0480 - metric/ndcg: 0.9284\n",
            "Epoch 00006: val_metric/ndcg_5 improved from 0.89257 to 0.89456, saving model to ./drive/My Drive/Antique_Dataset/checkpoints/best_weights_added_tfrbert_1_1234.hdf5\n",
            "770/770 [==============================] - 58s 75ms/step - loss: 50.6923 - metric/ndcg_1: 0.8219 - metric/ndcg_3: 0.8387 - metric/ndcg_5: 0.8825 - metric/ndcg_10: 0.9284 - metric/arp: 4.4254 - metric/ordered_pair_accuracy: 0.8734 - metric/mrr: 1.0000 - metric/precision: 1.0000 - metric/map: 1.0000 - metric/dcg: 34.0480 - metric/ndcg: 0.9284 - val_loss: 50.1777 - val_metric/ndcg_1: 0.8517 - val_metric/ndcg_3: 0.8493 - val_metric/ndcg_5: 0.8946 - val_metric/ndcg_10: 0.9360 - val_metric/arp: 4.3830 - val_metric/ordered_pair_accuracy: 0.8901 - val_metric/mrr: 1.0000 - val_metric/precision: 1.0000 - val_metric/map: 1.0000 - val_metric/dcg: 33.9332 - val_metric/ndcg: 0.9360\n",
            "Epoch 7/20\n",
            "770/770 [==============================] - ETA: 0s - loss: 50.3695 - metric/ndcg_1: 0.8272 - metric/ndcg_3: 0.8436 - metric/ndcg_5: 0.8864 - metric/ndcg_10: 0.9305 - metric/arp: 4.4117 - metric/ordered_pair_accuracy: 0.8762 - metric/mrr: 1.0000 - metric/precision: 1.0000 - metric/map: 1.0000 - metric/dcg: 33.9548 - metric/ndcg: 0.9305\n",
            "Epoch 00007: val_metric/ndcg_5 improved from 0.89456 to 0.89540, saving model to ./drive/My Drive/Antique_Dataset/checkpoints/best_weights_added_tfrbert_1_1234.hdf5\n",
            "770/770 [==============================] - 58s 75ms/step - loss: 50.3695 - metric/ndcg_1: 0.8272 - metric/ndcg_3: 0.8436 - metric/ndcg_5: 0.8864 - metric/ndcg_10: 0.9305 - metric/arp: 4.4117 - metric/ordered_pair_accuracy: 0.8762 - metric/mrr: 1.0000 - metric/precision: 1.0000 - metric/map: 1.0000 - metric/dcg: 33.9548 - metric/ndcg: 0.9305 - val_loss: 50.2093 - val_metric/ndcg_1: 0.8560 - val_metric/ndcg_3: 0.8501 - val_metric/ndcg_5: 0.8954 - val_metric/ndcg_10: 0.9364 - val_metric/arp: 4.3858 - val_metric/ordered_pair_accuracy: 0.8887 - val_metric/mrr: 1.0000 - val_metric/precision: 1.0000 - val_metric/map: 1.0000 - val_metric/dcg: 33.9560 - val_metric/ndcg: 0.9364\n",
            "Epoch 8/20\n",
            "769/770 [============================>.] - ETA: 0s - loss: 50.2774 - metric/ndcg_1: 0.8180 - metric/ndcg_3: 0.8387 - metric/ndcg_5: 0.8833 - metric/ndcg_10: 0.9282 - metric/arp: 4.4229 - metric/ordered_pair_accuracy: 0.8743 - metric/mrr: 1.0000 - metric/precision: 1.0000 - metric/map: 1.0000 - metric/dcg: 33.5026 - metric/ndcg: 0.9282\n",
            "Epoch 00008: val_metric/ndcg_5 improved from 0.89540 to 0.89633, saving model to ./drive/My Drive/Antique_Dataset/checkpoints/best_weights_added_tfrbert_1_1234.hdf5\n",
            "770/770 [==============================] - 58s 75ms/step - loss: 50.2743 - metric/ndcg_1: 0.8180 - metric/ndcg_3: 0.8388 - metric/ndcg_5: 0.8834 - metric/ndcg_10: 0.9282 - metric/arp: 4.4230 - metric/ordered_pair_accuracy: 0.8743 - metric/mrr: 1.0000 - metric/precision: 1.0000 - metric/map: 1.0000 - metric/dcg: 33.4955 - metric/ndcg: 0.9282 - val_loss: 50.1723 - val_metric/ndcg_1: 0.8586 - val_metric/ndcg_3: 0.8538 - val_metric/ndcg_5: 0.8963 - val_metric/ndcg_10: 0.9374 - val_metric/arp: 4.3815 - val_metric/ordered_pair_accuracy: 0.8915 - val_metric/mrr: 1.0000 - val_metric/precision: 1.0000 - val_metric/map: 1.0000 - val_metric/dcg: 33.9810 - val_metric/ndcg: 0.9374\n",
            "Epoch 9/20\n",
            "769/770 [============================>.] - ETA: 0s - loss: 50.2800 - metric/ndcg_1: 0.8221 - metric/ndcg_3: 0.8428 - metric/ndcg_5: 0.8865 - metric/ndcg_10: 0.9297 - metric/arp: 4.4065 - metric/ordered_pair_accuracy: 0.8778 - metric/mrr: 1.0000 - metric/precision: 1.0000 - metric/map: 1.0000 - metric/dcg: 33.8706 - metric/ndcg: 0.9297\n",
            "Epoch 00009: val_metric/ndcg_5 did not improve from 0.89633\n",
            "770/770 [==============================] - 57s 74ms/step - loss: 50.2786 - metric/ndcg_1: 0.8221 - metric/ndcg_3: 0.8428 - metric/ndcg_5: 0.8865 - metric/ndcg_10: 0.9297 - metric/arp: 4.4063 - metric/ordered_pair_accuracy: 0.8779 - metric/mrr: 1.0000 - metric/precision: 1.0000 - metric/map: 1.0000 - metric/dcg: 33.8707 - metric/ndcg: 0.9297 - val_loss: 50.1680 - val_metric/ndcg_1: 0.8540 - val_metric/ndcg_3: 0.8523 - val_metric/ndcg_5: 0.8957 - val_metric/ndcg_10: 0.9363 - val_metric/arp: 4.3827 - val_metric/ordered_pair_accuracy: 0.8904 - val_metric/mrr: 1.0000 - val_metric/precision: 1.0000 - val_metric/map: 1.0000 - val_metric/dcg: 33.9484 - val_metric/ndcg: 0.9363\n",
            "Epoch 10/20\n",
            "769/770 [============================>.] - ETA: 0s - loss: 50.4917 - metric/ndcg_1: 0.8239 - metric/ndcg_3: 0.8463 - metric/ndcg_5: 0.8883 - metric/ndcg_10: 0.9313 - metric/arp: 4.4121 - metric/ordered_pair_accuracy: 0.8792 - metric/mrr: 1.0000 - metric/precision: 1.0000 - metric/map: 1.0000 - metric/dcg: 33.9233 - metric/ndcg: 0.9313\n",
            "Epoch 00010: val_metric/ndcg_5 did not improve from 0.89633\n",
            "770/770 [==============================] - 57s 74ms/step - loss: 50.4822 - metric/ndcg_1: 0.8237 - metric/ndcg_3: 0.8463 - metric/ndcg_5: 0.8883 - metric/ndcg_10: 0.9313 - metric/arp: 4.4122 - metric/ordered_pair_accuracy: 0.8791 - metric/mrr: 1.0000 - metric/precision: 1.0000 - metric/map: 1.0000 - metric/dcg: 33.9130 - metric/ndcg: 0.9313 - val_loss: 50.1451 - val_metric/ndcg_1: 0.8559 - val_metric/ndcg_3: 0.8564 - val_metric/ndcg_5: 0.8959 - val_metric/ndcg_10: 0.9376 - val_metric/arp: 4.3799 - val_metric/ordered_pair_accuracy: 0.8918 - val_metric/mrr: 1.0000 - val_metric/precision: 1.0000 - val_metric/map: 1.0000 - val_metric/dcg: 33.9894 - val_metric/ndcg: 0.9376\n",
            "Epoch 11/20\n",
            "769/770 [============================>.] - ETA: 0s - loss: 50.2880 - metric/ndcg_1: 0.8336 - metric/ndcg_3: 0.8495 - metric/ndcg_5: 0.8905 - metric/ndcg_10: 0.9335 - metric/arp: 4.4023 - metric/ordered_pair_accuracy: 0.8804 - metric/mrr: 1.0000 - metric/precision: 1.0000 - metric/map: 1.0000 - metric/dcg: 33.9601 - metric/ndcg: 0.9335\n",
            "Epoch 00011: val_metric/ndcg_5 improved from 0.89633 to 0.89809, saving model to ./drive/My Drive/Antique_Dataset/checkpoints/best_weights_added_tfrbert_1_1234.hdf5\n",
            "770/770 [==============================] - 57s 75ms/step - loss: 50.2883 - metric/ndcg_1: 0.8337 - metric/ndcg_3: 0.8496 - metric/ndcg_5: 0.8906 - metric/ndcg_10: 0.9336 - metric/arp: 4.4020 - metric/ordered_pair_accuracy: 0.8804 - metric/mrr: 1.0000 - metric/precision: 1.0000 - metric/map: 1.0000 - metric/dcg: 33.9639 - metric/ndcg: 0.9336 - val_loss: 50.1577 - val_metric/ndcg_1: 0.8607 - val_metric/ndcg_3: 0.8534 - val_metric/ndcg_5: 0.8981 - val_metric/ndcg_10: 0.9383 - val_metric/arp: 4.3779 - val_metric/ordered_pair_accuracy: 0.8923 - val_metric/mrr: 1.0000 - val_metric/precision: 1.0000 - val_metric/map: 1.0000 - val_metric/dcg: 33.9961 - val_metric/ndcg: 0.9383\n",
            "Epoch 12/20\n",
            "769/770 [============================>.] - ETA: 0s - loss: 50.4404 - metric/ndcg_1: 0.8323 - metric/ndcg_3: 0.8501 - metric/ndcg_5: 0.8911 - metric/ndcg_10: 0.9336 - metric/arp: 4.4009 - metric/ordered_pair_accuracy: 0.8818 - metric/mrr: 1.0000 - metric/precision: 1.0000 - metric/map: 1.0000 - metric/dcg: 34.0840 - metric/ndcg: 0.9336\n",
            "Epoch 00012: val_metric/ndcg_5 did not improve from 0.89809\n",
            "770/770 [==============================] - 57s 74ms/step - loss: 50.4325 - metric/ndcg_1: 0.8324 - metric/ndcg_3: 0.8501 - metric/ndcg_5: 0.8912 - metric/ndcg_10: 0.9336 - metric/arp: 4.4007 - metric/ordered_pair_accuracy: 0.8819 - metric/mrr: 1.0000 - metric/precision: 1.0000 - metric/map: 1.0000 - metric/dcg: 34.0812 - metric/ndcg: 0.9336 - val_loss: 50.1714 - val_metric/ndcg_1: 0.8463 - val_metric/ndcg_3: 0.8523 - val_metric/ndcg_5: 0.8935 - val_metric/ndcg_10: 0.9354 - val_metric/arp: 4.3869 - val_metric/ordered_pair_accuracy: 0.8887 - val_metric/mrr: 1.0000 - val_metric/precision: 1.0000 - val_metric/map: 1.0000 - val_metric/dcg: 33.9012 - val_metric/ndcg: 0.9354\n",
            "Epoch 13/20\n",
            "769/770 [============================>.] - ETA: 0s - loss: 50.3398 - metric/ndcg_1: 0.8391 - metric/ndcg_3: 0.8552 - metric/ndcg_5: 0.8959 - metric/ndcg_10: 0.9358 - metric/arp: 4.4025 - metric/ordered_pair_accuracy: 0.8857 - metric/mrr: 1.0000 - metric/precision: 1.0000 - metric/map: 1.0000 - metric/dcg: 33.9111 - metric/ndcg: 0.9358\n",
            "Epoch 00013: val_metric/ndcg_5 did not improve from 0.89809\n",
            "770/770 [==============================] - 57s 74ms/step - loss: 50.3485 - metric/ndcg_1: 0.8393 - metric/ndcg_3: 0.8552 - metric/ndcg_5: 0.8960 - metric/ndcg_10: 0.9358 - metric/arp: 4.4026 - metric/ordered_pair_accuracy: 0.8857 - metric/mrr: 1.0000 - metric/precision: 1.0000 - metric/map: 1.0000 - metric/dcg: 33.9188 - metric/ndcg: 0.9358 - val_loss: 50.2092 - val_metric/ndcg_1: 0.8505 - val_metric/ndcg_3: 0.8528 - val_metric/ndcg_5: 0.8958 - val_metric/ndcg_10: 0.9368 - val_metric/arp: 4.3823 - val_metric/ordered_pair_accuracy: 0.8905 - val_metric/mrr: 1.0000 - val_metric/precision: 1.0000 - val_metric/map: 1.0000 - val_metric/dcg: 33.9506 - val_metric/ndcg: 0.9368\n",
            "Epoch 14/20\n",
            "769/770 [============================>.] - ETA: 0s - loss: 50.1791 - metric/ndcg_1: 0.8293 - metric/ndcg_3: 0.8489 - metric/ndcg_5: 0.8923 - metric/ndcg_10: 0.9333 - metric/arp: 4.3898 - metric/ordered_pair_accuracy: 0.8849 - metric/mrr: 1.0000 - metric/precision: 1.0000 - metric/map: 1.0000 - metric/dcg: 33.8586 - metric/ndcg: 0.9333\n",
            "Epoch 00014: val_metric/ndcg_5 did not improve from 0.89809\n",
            "770/770 [==============================] - 57s 74ms/step - loss: 50.1782 - metric/ndcg_1: 0.8292 - metric/ndcg_3: 0.8490 - metric/ndcg_5: 0.8923 - metric/ndcg_10: 0.9333 - metric/arp: 4.3897 - metric/ordered_pair_accuracy: 0.8849 - metric/mrr: 1.0000 - metric/precision: 1.0000 - metric/map: 1.0000 - metric/dcg: 33.8570 - metric/ndcg: 0.9333 - val_loss: 50.1712 - val_metric/ndcg_1: 0.8537 - val_metric/ndcg_3: 0.8549 - val_metric/ndcg_5: 0.8957 - val_metric/ndcg_10: 0.9372 - val_metric/arp: 4.3791 - val_metric/ordered_pair_accuracy: 0.8909 - val_metric/mrr: 1.0000 - val_metric/precision: 1.0000 - val_metric/map: 1.0000 - val_metric/dcg: 33.9657 - val_metric/ndcg: 0.9372\n",
            "Epoch 15/20\n",
            "769/770 [============================>.] - ETA: 0s - loss: 50.2675 - metric/ndcg_1: 0.8335 - metric/ndcg_3: 0.8537 - metric/ndcg_5: 0.8933 - metric/ndcg_10: 0.9344 - metric/arp: 4.3910 - metric/ordered_pair_accuracy: 0.8850 - metric/mrr: 1.0000 - metric/precision: 1.0000 - metric/map: 1.0000 - metric/dcg: 34.0756 - metric/ndcg: 0.9344\n",
            "Epoch 00015: val_metric/ndcg_5 did not improve from 0.89809\n",
            "770/770 [==============================] - 57s 74ms/step - loss: 50.2589 - metric/ndcg_1: 0.8335 - metric/ndcg_3: 0.8537 - metric/ndcg_5: 0.8933 - metric/ndcg_10: 0.9344 - metric/arp: 4.3911 - metric/ordered_pair_accuracy: 0.8850 - metric/mrr: 1.0000 - metric/precision: 1.0000 - metric/map: 1.0000 - metric/dcg: 34.0631 - metric/ndcg: 0.9344 - val_loss: 50.1802 - val_metric/ndcg_1: 0.8540 - val_metric/ndcg_3: 0.8546 - val_metric/ndcg_5: 0.8965 - val_metric/ndcg_10: 0.9373 - val_metric/arp: 4.3825 - val_metric/ordered_pair_accuracy: 0.8902 - val_metric/mrr: 1.0000 - val_metric/precision: 1.0000 - val_metric/map: 1.0000 - val_metric/dcg: 33.9633 - val_metric/ndcg: 0.9373\n",
            "Epoch 16/20\n",
            "769/770 [============================>.] - ETA: 0s - loss: 50.0587 - metric/ndcg_1: 0.8361 - metric/ndcg_3: 0.8552 - metric/ndcg_5: 0.8967 - metric/ndcg_10: 0.9353 - metric/arp: 4.3884 - metric/ordered_pair_accuracy: 0.8867 - metric/mrr: 1.0000 - metric/precision: 1.0000 - metric/map: 1.0000 - metric/dcg: 33.8946 - metric/ndcg: 0.9353\n",
            "Epoch 00016: val_metric/ndcg_5 did not improve from 0.89809\n",
            "770/770 [==============================] - 57s 74ms/step - loss: 50.0641 - metric/ndcg_1: 0.8362 - metric/ndcg_3: 0.8553 - metric/ndcg_5: 0.8967 - metric/ndcg_10: 0.9353 - metric/arp: 4.3883 - metric/ordered_pair_accuracy: 0.8868 - metric/mrr: 1.0000 - metric/precision: 1.0000 - metric/map: 1.0000 - metric/dcg: 33.9022 - metric/ndcg: 0.9353 - val_loss: 50.1399 - val_metric/ndcg_1: 0.8481 - val_metric/ndcg_3: 0.8534 - val_metric/ndcg_5: 0.8952 - val_metric/ndcg_10: 0.9362 - val_metric/arp: 4.3816 - val_metric/ordered_pair_accuracy: 0.8906 - val_metric/mrr: 1.0000 - val_metric/precision: 1.0000 - val_metric/map: 1.0000 - val_metric/dcg: 33.9233 - val_metric/ndcg: 0.9362\n",
            "Epoch 17/20\n",
            "770/770 [==============================] - ETA: 0s - loss: 50.3378 - metric/ndcg_1: 0.8276 - metric/ndcg_3: 0.8515 - metric/ndcg_5: 0.8929 - metric/ndcg_10: 0.9338 - metric/arp: 4.3979 - metric/ordered_pair_accuracy: 0.8842 - metric/mrr: 1.0000 - metric/precision: 1.0000 - metric/map: 1.0000 - metric/dcg: 33.9858 - metric/ndcg: 0.9338\n",
            "Epoch 00017: val_metric/ndcg_5 did not improve from 0.89809\n",
            "770/770 [==============================] - 57s 74ms/step - loss: 50.3378 - metric/ndcg_1: 0.8276 - metric/ndcg_3: 0.8515 - metric/ndcg_5: 0.8929 - metric/ndcg_10: 0.9338 - metric/arp: 4.3979 - metric/ordered_pair_accuracy: 0.8842 - metric/mrr: 1.0000 - metric/precision: 1.0000 - metric/map: 1.0000 - metric/dcg: 33.9858 - metric/ndcg: 0.9338 - val_loss: 50.1639 - val_metric/ndcg_1: 0.8544 - val_metric/ndcg_3: 0.8585 - val_metric/ndcg_5: 0.8976 - val_metric/ndcg_10: 0.9380 - val_metric/arp: 4.3796 - val_metric/ordered_pair_accuracy: 0.8922 - val_metric/mrr: 1.0000 - val_metric/precision: 1.0000 - val_metric/map: 1.0000 - val_metric/dcg: 33.9959 - val_metric/ndcg: 0.9380\n",
            "Epoch 18/20\n",
            "769/770 [============================>.] - ETA: 0s - loss: 49.9480 - metric/ndcg_1: 0.8429 - metric/ndcg_3: 0.8602 - metric/ndcg_5: 0.9009 - metric/ndcg_10: 0.9383 - metric/arp: 4.3768 - metric/ordered_pair_accuracy: 0.8919 - metric/mrr: 1.0000 - metric/precision: 1.0000 - metric/map: 1.0000 - metric/dcg: 33.9379 - metric/ndcg: 0.9383\n",
            "Epoch 00018: val_metric/ndcg_5 did not improve from 0.89809\n",
            "770/770 [==============================] - 56s 73ms/step - loss: 49.9606 - metric/ndcg_1: 0.8430 - metric/ndcg_3: 0.8602 - metric/ndcg_5: 0.9009 - metric/ndcg_10: 0.9383 - metric/arp: 4.3772 - metric/ordered_pair_accuracy: 0.8918 - metric/mrr: 1.0000 - metric/precision: 1.0000 - metric/map: 1.0000 - metric/dcg: 33.9475 - metric/ndcg: 0.9383 - val_loss: 50.1598 - val_metric/ndcg_1: 0.8513 - val_metric/ndcg_3: 0.8537 - val_metric/ndcg_5: 0.8962 - val_metric/ndcg_10: 0.9367 - val_metric/arp: 4.3804 - val_metric/ordered_pair_accuracy: 0.8917 - val_metric/mrr: 1.0000 - val_metric/precision: 1.0000 - val_metric/map: 1.0000 - val_metric/dcg: 33.9551 - val_metric/ndcg: 0.9367\n",
            "Epoch 19/20\n",
            "769/770 [============================>.] - ETA: 0s - loss: 50.0420 - metric/ndcg_1: 0.8358 - metric/ndcg_3: 0.8560 - metric/ndcg_5: 0.8970 - metric/ndcg_10: 0.9360 - metric/arp: 4.3904 - metric/ordered_pair_accuracy: 0.8865 - metric/mrr: 1.0000 - metric/precision: 1.0000 - metric/map: 1.0000 - metric/dcg: 33.8838 - metric/ndcg: 0.9360\n",
            "Epoch 00019: val_metric/ndcg_5 did not improve from 0.89809\n",
            "770/770 [==============================] - 56s 72ms/step - loss: 50.0374 - metric/ndcg_1: 0.8361 - metric/ndcg_3: 0.8560 - metric/ndcg_5: 0.8970 - metric/ndcg_10: 0.9360 - metric/arp: 4.3902 - metric/ordered_pair_accuracy: 0.8865 - metric/mrr: 1.0000 - metric/precision: 1.0000 - metric/map: 1.0000 - metric/dcg: 33.8827 - metric/ndcg: 0.9360 - val_loss: 50.1768 - val_metric/ndcg_1: 0.8536 - val_metric/ndcg_3: 0.8547 - val_metric/ndcg_5: 0.8973 - val_metric/ndcg_10: 0.9369 - val_metric/arp: 4.3833 - val_metric/ordered_pair_accuracy: 0.8900 - val_metric/mrr: 1.0000 - val_metric/precision: 1.0000 - val_metric/map: 1.0000 - val_metric/dcg: 33.9690 - val_metric/ndcg: 0.9369\n",
            "Epoch 20/20\n",
            "769/770 [============================>.] - ETA: 0s - loss: 50.1067 - metric/ndcg_1: 0.8278 - metric/ndcg_3: 0.8554 - metric/ndcg_5: 0.8967 - metric/ndcg_10: 0.9347 - metric/arp: 4.3777 - metric/ordered_pair_accuracy: 0.8901 - metric/mrr: 1.0000 - metric/precision: 1.0000 - metric/map: 1.0000 - metric/dcg: 33.9477 - metric/ndcg: 0.9347\n",
            "Epoch 00020: val_metric/ndcg_5 improved from 0.89809 to 0.89820, saving model to ./drive/My Drive/Antique_Dataset/checkpoints/best_weights_added_tfrbert_1_1234.hdf5\n",
            "770/770 [==============================] - 56s 73ms/step - loss: 50.0981 - metric/ndcg_1: 0.8279 - metric/ndcg_3: 0.8554 - metric/ndcg_5: 0.8967 - metric/ndcg_10: 0.9347 - metric/arp: 4.3775 - metric/ordered_pair_accuracy: 0.8901 - metric/mrr: 1.0000 - metric/precision: 1.0000 - metric/map: 1.0000 - metric/dcg: 33.9423 - metric/ndcg: 0.9347 - val_loss: 50.1402 - val_metric/ndcg_1: 0.8539 - val_metric/ndcg_3: 0.8577 - val_metric/ndcg_5: 0.8982 - val_metric/ndcg_10: 0.9376 - val_metric/arp: 4.3781 - val_metric/ordered_pair_accuracy: 0.8924 - val_metric/mrr: 1.0000 - val_metric/precision: 1.0000 - val_metric/map: 1.0000 - val_metric/dcg: 33.9772 - val_metric/ndcg: 0.9376\n"
          ],
          "name": "stdout"
        }
      ]
    },
    {
      "cell_type": "code",
      "metadata": {
        "id": "jsTjGvzQBeSn",
        "colab_type": "code",
        "colab": {
          "base_uri": "https://localhost:8080/",
          "height": 54
        },
        "outputId": "dd9a3c43-4edf-4096-fd08-1a70e8cfeddf"
      },
      "source": [
        "added_result_last = ranker.evaluate(test_dataset)"
      ],
      "execution_count": 37,
      "outputs": [
        {
          "output_type": "stream",
          "text": [
            "773/773 [==============================] - 12s 15ms/step - loss: 42.9597 - metric/ndcg_1: 0.6244 - metric/ndcg_3: 0.6772 - metric/ndcg_5: 0.7508 - metric/ndcg_10: 0.8487 - metric/arp: 4.5445 - metric/ordered_pair_accuracy: 0.6574 - metric/mrr: 1.0000 - metric/precision: 0.8536 - metric/map: 1.0000 - metric/dcg: 25.4826 - metric/ndcg: 0.8487\n"
          ],
          "name": "stdout"
        }
      ]
    },
    {
      "cell_type": "code",
      "metadata": {
        "id": "Ws4_y-4PBeSq",
        "colab_type": "code",
        "colab": {}
      },
      "source": [
        "ranker.load_weights(f'./drive/My Drive/Antique_Dataset/checkpoints/best_weights_added_{trial}.hdf5')"
      ],
      "execution_count": 38,
      "outputs": []
    },
    {
      "cell_type": "code",
      "metadata": {
        "scrolled": true,
        "id": "pJNnVqRSBeSr",
        "colab_type": "code",
        "colab": {
          "base_uri": "https://localhost:8080/",
          "height": 54
        },
        "outputId": "25356cae-f859-4188-f627-9f75db39cf08"
      },
      "source": [
        "added_result = ranker.evaluate(test_dataset)"
      ],
      "execution_count": 39,
      "outputs": [
        {
          "output_type": "stream",
          "text": [
            "773/773 [==============================] - 11s 15ms/step - loss: 42.9597 - metric/ndcg_1: 0.6247 - metric/ndcg_3: 0.6772 - metric/ndcg_5: 0.7508 - metric/ndcg_10: 0.8487 - metric/arp: 4.5445 - metric/ordered_pair_accuracy: 0.6574 - metric/mrr: 1.0000 - metric/precision: 0.8536 - metric/map: 1.0000 - metric/dcg: 25.4848 - metric/ndcg: 0.8486\n"
          ],
          "name": "stdout"
        }
      ]
    },
    {
      "cell_type": "code",
      "metadata": {
        "id": "Qgy4pNZJbgUH",
        "colab_type": "code",
        "colab": {}
      },
      "source": [
        "ranker = get_ranker()"
      ],
      "execution_count": 40,
      "outputs": []
    },
    {
      "cell_type": "code",
      "metadata": {
        "id": "wb6FtS_9bjXZ",
        "colab_type": "code",
        "colab": {}
      },
      "source": [
        "checkpoint = ModelCheckpoint(f'./drive/My Drive/Antique_Dataset/checkpoints/best_weights_{trial}.hdf5', monitor='val_metric/ndcg_5', verbose=1, save_best_only=True, mode='max')\n",
        "tsv = CSVLogger(f'./drive/My Drive/Antique_Dataset/outputs/training_stats_{trial}.tsv', separator='\\t', append=False)"
      ],
      "execution_count": 41,
      "outputs": []
    },
    {
      "cell_type": "code",
      "metadata": {
        "id": "x_Vlng0xbjrG",
        "colab_type": "code",
        "colab": {
          "base_uri": "https://localhost:8080/",
          "height": 1000
        },
        "outputId": "8a146825-05a4-4a58-bf4f-49be6d15a4ce"
      },
      "source": [
        "hist = ranker.fit(\n",
        "    train_dataset,\n",
        "    validation_data=vali_dataset,\n",
        "    verbose=1,\n",
        "    steps_per_epoch = int(len(train_df) / (batch_size * list_size)),\n",
        "    epochs=20,\n",
        "    validation_steps = int(len(vali_df) / (batch_size * list_size)),\n",
        "    callbacks = [checkpoint, tsv]\n",
        ")"
      ],
      "execution_count": 42,
      "outputs": [
        {
          "output_type": "stream",
          "text": [
            "Epoch 1/20\n",
            "465/465 [==============================] - ETA: 0s - loss: 72.6657 - metric/ndcg_1: 0.7095 - metric/ndcg_3: 0.7309 - metric/ndcg_5: 0.7657 - metric/ndcg_10: 0.8897 - metric/arp: 5.2928 - metric/ordered_pair_accuracy: 0.6345 - metric/mrr: 1.0000 - metric/precision: 1.0000 - metric/map: 1.0000 - metric/dcg: 43.1838 - metric/ndcg: 0.8897\n",
            "Epoch 00001: val_metric/ndcg improved from -inf to 0.91611, saving model to ./drive/My Drive/Antique_Dataset/checkpoints/best_weights_tfrbert_1_1234.hdf5\n",
            "465/465 [==============================] - 36s 78ms/step - loss: 72.6657 - metric/ndcg_1: 0.7095 - metric/ndcg_3: 0.7309 - metric/ndcg_5: 0.7657 - metric/ndcg_10: 0.8897 - metric/arp: 5.2928 - metric/ordered_pair_accuracy: 0.6345 - metric/mrr: 1.0000 - metric/precision: 1.0000 - metric/map: 1.0000 - metric/dcg: 43.1838 - metric/ndcg: 0.8897 - val_loss: 72.1412 - val_metric/ndcg_1: 0.8023 - val_metric/ndcg_3: 0.7943 - val_metric/ndcg_5: 0.8143 - val_metric/ndcg_10: 0.9161 - val_metric/arp: 5.2155 - val_metric/ordered_pair_accuracy: 0.6984 - val_metric/mrr: 1.0000 - val_metric/precision: 1.0000 - val_metric/map: 1.0000 - val_metric/dcg: 45.6291 - val_metric/ndcg: 0.9161\n",
            "Epoch 2/20\n",
            "465/465 [==============================] - ETA: 0s - loss: 71.2875 - metric/ndcg_1: 0.8170 - metric/ndcg_3: 0.8069 - metric/ndcg_5: 0.8269 - metric/ndcg_10: 0.9220 - metric/arp: 5.1873 - metric/ordered_pair_accuracy: 0.7092 - metric/mrr: 1.0000 - metric/precision: 1.0000 - metric/map: 1.0000 - metric/dcg: 45.1429 - metric/ndcg: 0.9220\n",
            "Epoch 00002: val_metric/ndcg improved from 0.91611 to 0.93063, saving model to ./drive/My Drive/Antique_Dataset/checkpoints/best_weights_tfrbert_1_1234.hdf5\n",
            "465/465 [==============================] - 35s 75ms/step - loss: 71.2875 - metric/ndcg_1: 0.8170 - metric/ndcg_3: 0.8069 - metric/ndcg_5: 0.8269 - metric/ndcg_10: 0.9220 - metric/arp: 5.1873 - metric/ordered_pair_accuracy: 0.7092 - metric/mrr: 1.0000 - metric/precision: 1.0000 - metric/map: 1.0000 - metric/dcg: 45.1429 - metric/ndcg: 0.9220 - val_loss: 72.0978 - val_metric/ndcg_1: 0.8390 - val_metric/ndcg_3: 0.8313 - val_metric/ndcg_5: 0.8441 - val_metric/ndcg_10: 0.9306 - val_metric/arp: 5.1638 - val_metric/ordered_pair_accuracy: 0.7355 - val_metric/mrr: 1.0000 - val_metric/precision: 1.0000 - val_metric/map: 1.0000 - val_metric/dcg: 46.2943 - val_metric/ndcg: 0.9306\n",
            "Epoch 3/20\n",
            "465/465 [==============================] - ETA: 0s - loss: 71.3204 - metric/ndcg_1: 0.8282 - metric/ndcg_3: 0.8213 - metric/ndcg_5: 0.8374 - metric/ndcg_10: 0.9267 - metric/arp: 5.1622 - metric/ordered_pair_accuracy: 0.7286 - metric/mrr: 1.0000 - metric/precision: 1.0000 - metric/map: 1.0000 - metric/dcg: 45.4991 - metric/ndcg: 0.9267\n",
            "Epoch 00003: val_metric/ndcg improved from 0.93063 to 0.93350, saving model to ./drive/My Drive/Antique_Dataset/checkpoints/best_weights_tfrbert_1_1234.hdf5\n",
            "465/465 [==============================] - 35s 75ms/step - loss: 71.3204 - metric/ndcg_1: 0.8282 - metric/ndcg_3: 0.8213 - metric/ndcg_5: 0.8374 - metric/ndcg_10: 0.9267 - metric/arp: 5.1622 - metric/ordered_pair_accuracy: 0.7286 - metric/mrr: 1.0000 - metric/precision: 1.0000 - metric/map: 1.0000 - metric/dcg: 45.4991 - metric/ndcg: 0.9267 - val_loss: 72.0986 - val_metric/ndcg_1: 0.8364 - val_metric/ndcg_3: 0.8400 - val_metric/ndcg_5: 0.8554 - val_metric/ndcg_10: 0.9335 - val_metric/arp: 5.1400 - val_metric/ordered_pair_accuracy: 0.7539 - val_metric/mrr: 1.0000 - val_metric/precision: 1.0000 - val_metric/map: 1.0000 - val_metric/dcg: 46.4308 - val_metric/ndcg: 0.9335\n",
            "Epoch 4/20\n",
            "464/465 [============================>.] - ETA: 0s - loss: 70.9655 - metric/ndcg_1: 0.8347 - metric/ndcg_3: 0.8236 - metric/ndcg_5: 0.8421 - metric/ndcg_10: 0.9280 - metric/arp: 5.1513 - metric/ordered_pair_accuracy: 0.7351 - metric/mrr: 1.0000 - metric/precision: 1.0000 - metric/map: 1.0000 - metric/dcg: 45.1731 - metric/ndcg: 0.9280\n",
            "Epoch 00004: val_metric/ndcg improved from 0.93350 to 0.93523, saving model to ./drive/My Drive/Antique_Dataset/checkpoints/best_weights_tfrbert_1_1234.hdf5\n",
            "465/465 [==============================] - 35s 75ms/step - loss: 70.9473 - metric/ndcg_1: 0.8344 - metric/ndcg_3: 0.8235 - metric/ndcg_5: 0.8420 - metric/ndcg_10: 0.9279 - metric/arp: 5.1514 - metric/ordered_pair_accuracy: 0.7350 - metric/mrr: 1.0000 - metric/precision: 1.0000 - metric/map: 1.0000 - metric/dcg: 45.1526 - metric/ndcg: 0.9279 - val_loss: 72.0484 - val_metric/ndcg_1: 0.8520 - val_metric/ndcg_3: 0.8429 - val_metric/ndcg_5: 0.8562 - val_metric/ndcg_10: 0.9352 - val_metric/arp: 5.1425 - val_metric/ordered_pair_accuracy: 0.7503 - val_metric/mrr: 1.0000 - val_metric/precision: 1.0000 - val_metric/map: 1.0000 - val_metric/dcg: 46.5309 - val_metric/ndcg: 0.9352\n",
            "Epoch 5/20\n",
            "464/465 [============================>.] - ETA: 0s - loss: 71.1739 - metric/ndcg_1: 0.8423 - metric/ndcg_3: 0.8340 - metric/ndcg_5: 0.8494 - metric/ndcg_10: 0.9321 - metric/arp: 5.1439 - metric/ordered_pair_accuracy: 0.7420 - metric/mrr: 1.0000 - metric/precision: 1.0000 - metric/map: 1.0000 - metric/dcg: 45.6102 - metric/ndcg: 0.9321\n",
            "Epoch 00005: val_metric/ndcg did not improve from 0.93523\n",
            "465/465 [==============================] - 34s 73ms/step - loss: 71.1686 - metric/ndcg_1: 0.8418 - metric/ndcg_3: 0.8338 - metric/ndcg_5: 0.8493 - metric/ndcg_10: 0.9321 - metric/arp: 5.1437 - metric/ordered_pair_accuracy: 0.7420 - metric/mrr: 1.0000 - metric/precision: 1.0000 - metric/map: 1.0000 - metric/dcg: 45.6026 - metric/ndcg: 0.9321 - val_loss: 72.0314 - val_metric/ndcg_1: 0.8494 - val_metric/ndcg_3: 0.8432 - val_metric/ndcg_5: 0.8544 - val_metric/ndcg_10: 0.9344 - val_metric/arp: 5.1445 - val_metric/ordered_pair_accuracy: 0.7507 - val_metric/mrr: 1.0000 - val_metric/precision: 1.0000 - val_metric/map: 1.0000 - val_metric/dcg: 46.4924 - val_metric/ndcg: 0.9344\n",
            "Epoch 6/20\n",
            "465/465 [==============================] - ETA: 0s - loss: 71.3316 - metric/ndcg_1: 0.8506 - metric/ndcg_3: 0.8372 - metric/ndcg_5: 0.8510 - metric/ndcg_10: 0.9336 - metric/arp: 5.1413 - metric/ordered_pair_accuracy: 0.7449 - metric/mrr: 1.0000 - metric/precision: 1.0000 - metric/map: 1.0000 - metric/dcg: 45.8230 - metric/ndcg: 0.9336\n",
            "Epoch 00006: val_metric/ndcg improved from 0.93523 to 0.93734, saving model to ./drive/My Drive/Antique_Dataset/checkpoints/best_weights_tfrbert_1_1234.hdf5\n",
            "465/465 [==============================] - 35s 76ms/step - loss: 71.3316 - metric/ndcg_1: 0.8506 - metric/ndcg_3: 0.8372 - metric/ndcg_5: 0.8510 - metric/ndcg_10: 0.9336 - metric/arp: 5.1413 - metric/ordered_pair_accuracy: 0.7449 - metric/mrr: 1.0000 - metric/precision: 1.0000 - metric/map: 1.0000 - metric/dcg: 45.8230 - metric/ndcg: 0.9336 - val_loss: 72.0184 - val_metric/ndcg_1: 0.8527 - val_metric/ndcg_3: 0.8515 - val_metric/ndcg_5: 0.8624 - val_metric/ndcg_10: 0.9373 - val_metric/arp: 5.1341 - val_metric/ordered_pair_accuracy: 0.7591 - val_metric/mrr: 1.0000 - val_metric/precision: 1.0000 - val_metric/map: 1.0000 - val_metric/dcg: 46.6249 - val_metric/ndcg: 0.9373\n",
            "Epoch 7/20\n",
            "464/465 [============================>.] - ETA: 0s - loss: 70.9067 - metric/ndcg_1: 0.8411 - metric/ndcg_3: 0.8358 - metric/ndcg_5: 0.8521 - metric/ndcg_10: 0.9327 - metric/arp: 5.1279 - metric/ordered_pair_accuracy: 0.7526 - metric/mrr: 1.0000 - metric/precision: 1.0000 - metric/map: 1.0000 - metric/dcg: 45.4231 - metric/ndcg: 0.9327\n",
            "Epoch 00007: val_metric/ndcg did not improve from 0.93734\n",
            "465/465 [==============================] - 34s 73ms/step - loss: 70.8936 - metric/ndcg_1: 0.8413 - metric/ndcg_3: 0.8358 - metric/ndcg_5: 0.8520 - metric/ndcg_10: 0.9326 - metric/arp: 5.1277 - metric/ordered_pair_accuracy: 0.7526 - metric/mrr: 1.0000 - metric/precision: 1.0000 - metric/map: 1.0000 - metric/dcg: 45.4133 - metric/ndcg: 0.9326 - val_loss: 72.0057 - val_metric/ndcg_1: 0.8537 - val_metric/ndcg_3: 0.8498 - val_metric/ndcg_5: 0.8607 - val_metric/ndcg_10: 0.9369 - val_metric/arp: 5.1338 - val_metric/ordered_pair_accuracy: 0.7586 - val_metric/mrr: 1.0000 - val_metric/precision: 1.0000 - val_metric/map: 1.0000 - val_metric/dcg: 46.5999 - val_metric/ndcg: 0.9369\n",
            "Epoch 8/20\n",
            "465/465 [==============================] - ETA: 0s - loss: 71.3269 - metric/ndcg_1: 0.8536 - metric/ndcg_3: 0.8378 - metric/ndcg_5: 0.8534 - metric/ndcg_10: 0.9343 - metric/arp: 5.1305 - metric/ordered_pair_accuracy: 0.7521 - metric/mrr: 1.0000 - metric/precision: 1.0000 - metric/map: 1.0000 - metric/dcg: 45.9164 - metric/ndcg: 0.9343\n",
            "Epoch 00008: val_metric/ndcg did not improve from 0.93734\n",
            "465/465 [==============================] - 34s 74ms/step - loss: 71.3269 - metric/ndcg_1: 0.8536 - metric/ndcg_3: 0.8378 - metric/ndcg_5: 0.8534 - metric/ndcg_10: 0.9343 - metric/arp: 5.1305 - metric/ordered_pair_accuracy: 0.7521 - metric/mrr: 1.0000 - metric/precision: 1.0000 - metric/map: 1.0000 - metric/dcg: 45.9164 - metric/ndcg: 0.9343 - val_loss: 72.0068 - val_metric/ndcg_1: 0.8546 - val_metric/ndcg_3: 0.8450 - val_metric/ndcg_5: 0.8601 - val_metric/ndcg_10: 0.9367 - val_metric/arp: 5.1362 - val_metric/ordered_pair_accuracy: 0.7570 - val_metric/mrr: 1.0000 - val_metric/precision: 1.0000 - val_metric/map: 1.0000 - val_metric/dcg: 46.5780 - val_metric/ndcg: 0.9367\n",
            "Epoch 9/20\n",
            "465/465 [==============================] - ETA: 0s - loss: 71.1603 - metric/ndcg_1: 0.8521 - metric/ndcg_3: 0.8410 - metric/ndcg_5: 0.8565 - metric/ndcg_10: 0.9352 - metric/arp: 5.1322 - metric/ordered_pair_accuracy: 0.7529 - metric/mrr: 1.0000 - metric/precision: 1.0000 - metric/map: 1.0000 - metric/dcg: 45.6801 - metric/ndcg: 0.9352\n",
            "Epoch 00009: val_metric/ndcg improved from 0.93734 to 0.93975, saving model to ./drive/My Drive/Antique_Dataset/checkpoints/best_weights_tfrbert_1_1234.hdf5\n",
            "465/465 [==============================] - 35s 75ms/step - loss: 71.1603 - metric/ndcg_1: 0.8521 - metric/ndcg_3: 0.8410 - metric/ndcg_5: 0.8565 - metric/ndcg_10: 0.9352 - metric/arp: 5.1322 - metric/ordered_pair_accuracy: 0.7529 - metric/mrr: 1.0000 - metric/precision: 1.0000 - metric/map: 1.0000 - metric/dcg: 45.6801 - metric/ndcg: 0.9352 - val_loss: 72.0096 - val_metric/ndcg_1: 0.8673 - val_metric/ndcg_3: 0.8556 - val_metric/ndcg_5: 0.8648 - val_metric/ndcg_10: 0.9397 - val_metric/arp: 5.1328 - val_metric/ordered_pair_accuracy: 0.7606 - val_metric/mrr: 1.0000 - val_metric/precision: 1.0000 - val_metric/map: 1.0000 - val_metric/dcg: 46.7253 - val_metric/ndcg: 0.9397\n",
            "Epoch 10/20\n",
            "464/465 [============================>.] - ETA: 0s - loss: 70.8943 - metric/ndcg_1: 0.8492 - metric/ndcg_3: 0.8422 - metric/ndcg_5: 0.8558 - metric/ndcg_10: 0.9349 - metric/arp: 5.1157 - metric/ordered_pair_accuracy: 0.7593 - metric/mrr: 1.0000 - metric/precision: 1.0000 - metric/map: 1.0000 - metric/dcg: 45.5901 - metric/ndcg: 0.9349\n",
            "Epoch 00010: val_metric/ndcg did not improve from 0.93975\n",
            "465/465 [==============================] - 34s 74ms/step - loss: 70.8816 - metric/ndcg_1: 0.8492 - metric/ndcg_3: 0.8420 - metric/ndcg_5: 0.8557 - metric/ndcg_10: 0.9348 - metric/arp: 5.1158 - metric/ordered_pair_accuracy: 0.7592 - metric/mrr: 1.0000 - metric/precision: 1.0000 - metric/map: 1.0000 - metric/dcg: 45.5733 - metric/ndcg: 0.9348 - val_loss: 71.9955 - val_metric/ndcg_1: 0.8611 - val_metric/ndcg_3: 0.8499 - val_metric/ndcg_5: 0.8616 - val_metric/ndcg_10: 0.9380 - val_metric/arp: 5.1342 - val_metric/ordered_pair_accuracy: 0.7592 - val_metric/mrr: 1.0000 - val_metric/precision: 1.0000 - val_metric/map: 1.0000 - val_metric/dcg: 46.6479 - val_metric/ndcg: 0.9380\n",
            "Epoch 11/20\n",
            "465/465 [==============================] - ETA: 0s - loss: 71.3624 - metric/ndcg_1: 0.8679 - metric/ndcg_3: 0.8524 - metric/ndcg_5: 0.8640 - metric/ndcg_10: 0.9400 - metric/arp: 5.1181 - metric/ordered_pair_accuracy: 0.7622 - metric/mrr: 1.0000 - metric/precision: 1.0000 - metric/map: 1.0000 - metric/dcg: 46.1619 - metric/ndcg: 0.9400\n",
            "Epoch 00011: val_metric/ndcg did not improve from 0.93975\n",
            "465/465 [==============================] - 34s 74ms/step - loss: 71.3624 - metric/ndcg_1: 0.8679 - metric/ndcg_3: 0.8524 - metric/ndcg_5: 0.8640 - metric/ndcg_10: 0.9400 - metric/arp: 5.1181 - metric/ordered_pair_accuracy: 0.7622 - metric/mrr: 1.0000 - metric/precision: 1.0000 - metric/map: 1.0000 - metric/dcg: 46.1619 - metric/ndcg: 0.9400 - val_loss: 71.9948 - val_metric/ndcg_1: 0.8527 - val_metric/ndcg_3: 0.8471 - val_metric/ndcg_5: 0.8610 - val_metric/ndcg_10: 0.9368 - val_metric/arp: 5.1338 - val_metric/ordered_pair_accuracy: 0.7588 - val_metric/mrr: 1.0000 - val_metric/precision: 1.0000 - val_metric/map: 1.0000 - val_metric/dcg: 46.5920 - val_metric/ndcg: 0.9368\n",
            "Epoch 12/20\n",
            "465/465 [==============================] - ETA: 0s - loss: 70.8887 - metric/ndcg_1: 0.8595 - metric/ndcg_3: 0.8474 - metric/ndcg_5: 0.8632 - metric/ndcg_10: 0.9383 - metric/arp: 5.1099 - metric/ordered_pair_accuracy: 0.7652 - metric/mrr: 1.0000 - metric/precision: 1.0000 - metric/map: 1.0000 - metric/dcg: 45.6701 - metric/ndcg: 0.9383\n",
            "Epoch 00012: val_metric/ndcg did not improve from 0.93975\n",
            "465/465 [==============================] - 34s 72ms/step - loss: 70.8887 - metric/ndcg_1: 0.8595 - metric/ndcg_3: 0.8474 - metric/ndcg_5: 0.8632 - metric/ndcg_10: 0.9383 - metric/arp: 5.1099 - metric/ordered_pair_accuracy: 0.7652 - metric/mrr: 1.0000 - metric/precision: 1.0000 - metric/map: 1.0000 - metric/dcg: 45.6701 - metric/ndcg: 0.9383 - val_loss: 71.9991 - val_metric/ndcg_1: 0.8550 - val_metric/ndcg_3: 0.8480 - val_metric/ndcg_5: 0.8593 - val_metric/ndcg_10: 0.9370 - val_metric/arp: 5.1336 - val_metric/ordered_pair_accuracy: 0.7593 - val_metric/mrr: 1.0000 - val_metric/precision: 1.0000 - val_metric/map: 1.0000 - val_metric/dcg: 46.6042 - val_metric/ndcg: 0.9370\n",
            "Epoch 13/20\n",
            "465/465 [==============================] - ETA: 0s - loss: 71.3727 - metric/ndcg_1: 0.8682 - metric/ndcg_3: 0.8542 - metric/ndcg_5: 0.8670 - metric/ndcg_10: 0.9404 - metric/arp: 5.1168 - metric/ordered_pair_accuracy: 0.7655 - metric/mrr: 1.0000 - metric/precision: 1.0000 - metric/map: 1.0000 - metric/dcg: 46.2221 - metric/ndcg: 0.9404\n",
            "Epoch 00013: val_metric/ndcg did not improve from 0.93975\n",
            "465/465 [==============================] - 34s 73ms/step - loss: 71.3727 - metric/ndcg_1: 0.8682 - metric/ndcg_3: 0.8542 - metric/ndcg_5: 0.8670 - metric/ndcg_10: 0.9404 - metric/arp: 5.1168 - metric/ordered_pair_accuracy: 0.7655 - metric/mrr: 1.0000 - metric/precision: 1.0000 - metric/map: 1.0000 - metric/dcg: 46.2221 - metric/ndcg: 0.9404 - val_loss: 71.9916 - val_metric/ndcg_1: 0.8585 - val_metric/ndcg_3: 0.8509 - val_metric/ndcg_5: 0.8622 - val_metric/ndcg_10: 0.9385 - val_metric/arp: 5.1312 - val_metric/ordered_pair_accuracy: 0.7602 - val_metric/mrr: 1.0000 - val_metric/precision: 1.0000 - val_metric/map: 1.0000 - val_metric/dcg: 46.6656 - val_metric/ndcg: 0.9385\n",
            "Epoch 14/20\n",
            "465/465 [==============================] - ETA: 0s - loss: 71.0172 - metric/ndcg_1: 0.8632 - metric/ndcg_3: 0.8512 - metric/ndcg_5: 0.8641 - metric/ndcg_10: 0.9394 - metric/arp: 5.1053 - metric/ordered_pair_accuracy: 0.7698 - metric/mrr: 1.0000 - metric/precision: 1.0000 - metric/map: 1.0000 - metric/dcg: 45.8175 - metric/ndcg: 0.9394\n",
            "Epoch 00014: val_metric/ndcg did not improve from 0.93975\n",
            "465/465 [==============================] - 34s 74ms/step - loss: 71.0172 - metric/ndcg_1: 0.8632 - metric/ndcg_3: 0.8512 - metric/ndcg_5: 0.8641 - metric/ndcg_10: 0.9394 - metric/arp: 5.1053 - metric/ordered_pair_accuracy: 0.7698 - metric/mrr: 1.0000 - metric/precision: 1.0000 - metric/map: 1.0000 - metric/dcg: 45.8175 - metric/ndcg: 0.9394 - val_loss: 71.9929 - val_metric/ndcg_1: 0.8628 - val_metric/ndcg_3: 0.8544 - val_metric/ndcg_5: 0.8634 - val_metric/ndcg_10: 0.9392 - val_metric/arp: 5.1274 - val_metric/ordered_pair_accuracy: 0.7639 - val_metric/mrr: 1.0000 - val_metric/precision: 1.0000 - val_metric/map: 1.0000 - val_metric/dcg: 46.7091 - val_metric/ndcg: 0.9392\n",
            "Epoch 15/20\n",
            "465/465 [==============================] - ETA: 0s - loss: 70.7444 - metric/ndcg_1: 0.8591 - metric/ndcg_3: 0.8533 - metric/ndcg_5: 0.8673 - metric/ndcg_10: 0.9393 - metric/arp: 5.0954 - metric/ordered_pair_accuracy: 0.7735 - metric/mrr: 1.0000 - metric/precision: 1.0000 - metric/map: 1.0000 - metric/dcg: 45.6739 - metric/ndcg: 0.9393\n",
            "Epoch 00015: val_metric/ndcg did not improve from 0.93975\n",
            "465/465 [==============================] - 35s 76ms/step - loss: 70.7444 - metric/ndcg_1: 0.8591 - metric/ndcg_3: 0.8533 - metric/ndcg_5: 0.8673 - metric/ndcg_10: 0.9393 - metric/arp: 5.0954 - metric/ordered_pair_accuracy: 0.7735 - metric/mrr: 1.0000 - metric/precision: 1.0000 - metric/map: 1.0000 - metric/dcg: 45.6739 - metric/ndcg: 0.9393 - val_loss: 71.9940 - val_metric/ndcg_1: 0.8559 - val_metric/ndcg_3: 0.8479 - val_metric/ndcg_5: 0.8621 - val_metric/ndcg_10: 0.9377 - val_metric/arp: 5.1305 - val_metric/ordered_pair_accuracy: 0.7605 - val_metric/mrr: 1.0000 - val_metric/precision: 1.0000 - val_metric/map: 1.0000 - val_metric/dcg: 46.6258 - val_metric/ndcg: 0.9377\n",
            "Epoch 16/20\n",
            "465/465 [==============================] - ETA: 0s - loss: 70.7473 - metric/ndcg_1: 0.8587 - metric/ndcg_3: 0.8503 - metric/ndcg_5: 0.8650 - metric/ndcg_10: 0.9389 - metric/arp: 5.1012 - metric/ordered_pair_accuracy: 0.7702 - metric/mrr: 1.0000 - metric/precision: 1.0000 - metric/map: 1.0000 - metric/dcg: 45.5894 - metric/ndcg: 0.9389\n",
            "Epoch 00016: val_metric/ndcg did not improve from 0.93975\n",
            "465/465 [==============================] - 36s 77ms/step - loss: 70.7473 - metric/ndcg_1: 0.8587 - metric/ndcg_3: 0.8503 - metric/ndcg_5: 0.8650 - metric/ndcg_10: 0.9389 - metric/arp: 5.1012 - metric/ordered_pair_accuracy: 0.7702 - metric/mrr: 1.0000 - metric/precision: 1.0000 - metric/map: 1.0000 - metric/dcg: 45.5894 - metric/ndcg: 0.9389 - val_loss: 71.9922 - val_metric/ndcg_1: 0.8598 - val_metric/ndcg_3: 0.8428 - val_metric/ndcg_5: 0.8609 - val_metric/ndcg_10: 0.9369 - val_metric/arp: 5.1297 - val_metric/ordered_pair_accuracy: 0.7617 - val_metric/mrr: 1.0000 - val_metric/precision: 1.0000 - val_metric/map: 1.0000 - val_metric/dcg: 46.6095 - val_metric/ndcg: 0.9369\n",
            "Epoch 17/20\n",
            "464/465 [============================>.] - ETA: 0s - loss: 70.8152 - metric/ndcg_1: 0.8683 - metric/ndcg_3: 0.8591 - metric/ndcg_5: 0.8710 - metric/ndcg_10: 0.9422 - metric/arp: 5.0916 - metric/ordered_pair_accuracy: 0.7805 - metric/mrr: 1.0000 - metric/precision: 1.0000 - metric/map: 1.0000 - metric/dcg: 45.7717 - metric/ndcg: 0.9422\n",
            "Epoch 00017: val_metric/ndcg did not improve from 0.93975\n",
            "465/465 [==============================] - 36s 78ms/step - loss: 70.8362 - metric/ndcg_1: 0.8684 - metric/ndcg_3: 0.8592 - metric/ndcg_5: 0.8710 - metric/ndcg_10: 0.9422 - metric/arp: 5.0920 - metric/ordered_pair_accuracy: 0.7805 - metric/mrr: 1.0000 - metric/precision: 1.0000 - metric/map: 1.0000 - metric/dcg: 45.7902 - metric/ndcg: 0.9422 - val_loss: 71.9917 - val_metric/ndcg_1: 0.8605 - val_metric/ndcg_3: 0.8525 - val_metric/ndcg_5: 0.8664 - val_metric/ndcg_10: 0.9392 - val_metric/arp: 5.1236 - val_metric/ordered_pair_accuracy: 0.7671 - val_metric/mrr: 1.0000 - val_metric/precision: 1.0000 - val_metric/map: 1.0000 - val_metric/dcg: 46.7063 - val_metric/ndcg: 0.9392\n",
            "Epoch 18/20\n",
            "465/465 [==============================] - ETA: 0s - loss: 70.5853 - metric/ndcg_1: 0.8651 - metric/ndcg_3: 0.8550 - metric/ndcg_5: 0.8677 - metric/ndcg_10: 0.9404 - metric/arp: 5.0934 - metric/ordered_pair_accuracy: 0.7746 - metric/mrr: 1.0000 - metric/precision: 1.0000 - metric/map: 1.0000 - metric/dcg: 45.5406 - metric/ndcg: 0.9404\n",
            "Epoch 00018: val_metric/ndcg did not improve from 0.93975\n",
            "465/465 [==============================] - 36s 78ms/step - loss: 70.5853 - metric/ndcg_1: 0.8651 - metric/ndcg_3: 0.8550 - metric/ndcg_5: 0.8677 - metric/ndcg_10: 0.9404 - metric/arp: 5.0934 - metric/ordered_pair_accuracy: 0.7746 - metric/mrr: 1.0000 - metric/precision: 1.0000 - metric/map: 1.0000 - metric/dcg: 45.5406 - metric/ndcg: 0.9404 - val_loss: 71.9960 - val_metric/ndcg_1: 0.8715 - val_metric/ndcg_3: 0.8469 - val_metric/ndcg_5: 0.8635 - val_metric/ndcg_10: 0.9389 - val_metric/arp: 5.1281 - val_metric/ordered_pair_accuracy: 0.7634 - val_metric/mrr: 1.0000 - val_metric/precision: 1.0000 - val_metric/map: 1.0000 - val_metric/dcg: 46.7081 - val_metric/ndcg: 0.9389\n",
            "Epoch 19/20\n",
            "465/465 [==============================] - ETA: 0s - loss: 70.8803 - metric/ndcg_1: 0.8713 - metric/ndcg_3: 0.8560 - metric/ndcg_5: 0.8719 - metric/ndcg_10: 0.9419 - metric/arp: 5.0888 - metric/ordered_pair_accuracy: 0.7797 - metric/mrr: 1.0000 - metric/precision: 1.0000 - metric/map: 1.0000 - metric/dcg: 45.9392 - metric/ndcg: 0.9419\n",
            "Epoch 00019: val_metric/ndcg did not improve from 0.93975\n",
            "465/465 [==============================] - 36s 78ms/step - loss: 70.8803 - metric/ndcg_1: 0.8713 - metric/ndcg_3: 0.8560 - metric/ndcg_5: 0.8719 - metric/ndcg_10: 0.9419 - metric/arp: 5.0888 - metric/ordered_pair_accuracy: 0.7797 - metric/mrr: 1.0000 - metric/precision: 1.0000 - metric/map: 1.0000 - metric/dcg: 45.9392 - metric/ndcg: 0.9419 - val_loss: 71.9962 - val_metric/ndcg_1: 0.8663 - val_metric/ndcg_3: 0.8503 - val_metric/ndcg_5: 0.8641 - val_metric/ndcg_10: 0.9387 - val_metric/arp: 5.1286 - val_metric/ordered_pair_accuracy: 0.7640 - val_metric/mrr: 1.0000 - val_metric/precision: 1.0000 - val_metric/map: 1.0000 - val_metric/dcg: 46.6943 - val_metric/ndcg: 0.9387\n",
            "Epoch 20/20\n",
            "465/465 [==============================] - ETA: 0s - loss: 71.2578 - metric/ndcg_1: 0.8718 - metric/ndcg_3: 0.8603 - metric/ndcg_5: 0.8714 - metric/ndcg_10: 0.9431 - metric/arp: 5.0940 - metric/ordered_pair_accuracy: 0.7797 - metric/mrr: 1.0000 - metric/precision: 1.0000 - metric/map: 1.0000 - metric/dcg: 46.2901 - metric/ndcg: 0.9431\n",
            "Epoch 00020: val_metric/ndcg did not improve from 0.93975\n",
            "465/465 [==============================] - 36s 78ms/step - loss: 71.2578 - metric/ndcg_1: 0.8718 - metric/ndcg_3: 0.8603 - metric/ndcg_5: 0.8714 - metric/ndcg_10: 0.9431 - metric/arp: 5.0940 - metric/ordered_pair_accuracy: 0.7797 - metric/mrr: 1.0000 - metric/precision: 1.0000 - metric/map: 1.0000 - metric/dcg: 46.2901 - metric/ndcg: 0.9431 - val_loss: 72.0022 - val_metric/ndcg_1: 0.8572 - val_metric/ndcg_3: 0.8474 - val_metric/ndcg_5: 0.8599 - val_metric/ndcg_10: 0.9372 - val_metric/arp: 5.1394 - val_metric/ordered_pair_accuracy: 0.7562 - val_metric/mrr: 1.0000 - val_metric/precision: 1.0000 - val_metric/map: 1.0000 - val_metric/dcg: 46.6240 - val_metric/ndcg: 0.9372\n"
          ],
          "name": "stdout"
        }
      ]
    },
    {
      "cell_type": "code",
      "metadata": {
        "id": "ussjw6TFbzau",
        "colab_type": "code",
        "colab": {
          "base_uri": "https://localhost:8080/",
          "height": 54
        },
        "outputId": "66262478-2ece-4d12-b5db-31a997710d57"
      },
      "source": [
        "result_last = ranker.evaluate(test_dataset)"
      ],
      "execution_count": 43,
      "outputs": [
        {
          "output_type": "stream",
          "text": [
            "773/773 [==============================] - 12s 15ms/step - loss: 42.8978 - metric/ndcg_1: 0.5880 - metric/ndcg_3: 0.6474 - metric/ndcg_5: 0.7261 - metric/ndcg_10: 0.8341 - metric/arp: 4.6032 - metric/ordered_pair_accuracy: 0.6227 - metric/mrr: 1.0000 - metric/precision: 0.8536 - metric/map: 1.0000 - metric/dcg: 25.1110 - metric/ndcg: 0.8341\n"
          ],
          "name": "stdout"
        }
      ]
    },
    {
      "cell_type": "code",
      "metadata": {
        "id": "INSnGoeBb1wy",
        "colab_type": "code",
        "colab": {}
      },
      "source": [
        "ranker.load_weights(f'./drive/My Drive/Antique_Dataset/checkpoints/best_weights_{trial}.hdf5')"
      ],
      "execution_count": 44,
      "outputs": []
    },
    {
      "cell_type": "code",
      "metadata": {
        "id": "BfUyVSxDb5xB",
        "colab_type": "code",
        "colab": {
          "base_uri": "https://localhost:8080/",
          "height": 54
        },
        "outputId": "359c4403-f7e4-4acb-b16e-00cb28cbd89d"
      },
      "source": [
        "result = ranker.evaluate(test_dataset)"
      ],
      "execution_count": 45,
      "outputs": [
        {
          "output_type": "stream",
          "text": [
            "773/773 [==============================] - 12s 15ms/step - loss: 42.9021 - metric/ndcg_1: 0.5699 - metric/ndcg_3: 0.6452 - metric/ndcg_5: 0.7205 - metric/ndcg_10: 0.8307 - metric/arp: 4.6126 - metric/ordered_pair_accuracy: 0.6209 - metric/mrr: 1.0000 - metric/precision: 0.8536 - metric/map: 1.0000 - metric/dcg: 24.9867 - metric/ndcg: 0.8306\n"
          ],
          "name": "stdout"
        }
      ]
    },
    {
      "cell_type": "markdown",
      "metadata": {
        "id": "2jGDQbvCFJg2",
        "colab_type": "text"
      },
      "source": [
        "# Results\n",
        "\n",
        "We got 0.7257 for nDCG_5, using the best saved model (lowest validation loss) which is decent, but a far cry from the validation metric of val_ndcg_5 of 0.8839. Part of the reason is that the training data is grouped in lists of 10, and all query-doc pairs are based on the same query, but for the test data, it is not based on the same query as data can't be made up for the test dataset. \n",
        "\n",
        "This is also an improvement from a separate run where additional irrelevant data was not created to balance the bias in the training dataset, where that run achieve 0.7044 nDCG_5 for the test dataset. "
      ]
    },
    {
      "cell_type": "code",
      "metadata": {
        "id": "uYNM9zj8BeSt",
        "colab_type": "code",
        "colab": {}
      },
      "source": [
        "import matplotlib.pyplot as plt\n",
        "def plot_train(hist):\n",
        "    h = hist.history\n",
        "    i = 0\n",
        "    for metric in h.keys():\n",
        "        if 'val' in metric:\n",
        "            return\n",
        "        plt.figure(i)\n",
        "        plt.plot(hist.history[metric])\n",
        "        plt.plot(hist.history['val_'+metric])\n",
        "        plt.title('model '+metric)\n",
        "        plt.ylabel(metric)\n",
        "        plt.xlabel('epoch')\n",
        "        plt.legend(['train', 'validation'])\n",
        "        i += 1"
      ],
      "execution_count": 46,
      "outputs": []
    },
    {
      "cell_type": "code",
      "metadata": {
        "scrolled": true,
        "id": "N08rzgUlBeSu",
        "colab_type": "code",
        "colab": {
          "base_uri": "https://localhost:8080/",
          "height": 1000
        },
        "outputId": "4bbe1618-560a-49ba-e587-bb21c1e25402"
      },
      "source": [
        "plot_train(hist)"
      ],
      "execution_count": 47,
      "outputs": [
        {
          "output_type": "display_data",
          "data": {
            "image/png": "[encoded data removed]",
            "text/plain": [
              "<Figure size 432x288 with 1 Axes>"
            ]
          },
          "metadata": {
            "tags": [],
            "needs_background": "light"
          }
        },
        {
          "output_type": "display_data",
          "data": {
            "image/png": "[encoded data removed]",
            "text/plain": [
              "<Figure size 432x288 with 1 Axes>"
            ]
          },
          "metadata": {
            "tags": [],
            "needs_background": "light"
          }
        },
        {
          "output_type": "display_data",
          "data": {
            "image/png": "[encoded data removed]",
            "text/plain": [
              "<Figure size 432x288 with 1 Axes>"
            ]
          },
          "metadata": {
            "tags": [],
            "needs_background": "light"
          }
        },
        {
          "output_type": "display_data",
          "data": {
            "image/png": "[encoded data removed]",
            "text/plain": [
              "<Figure size 432x288 with 1 Axes>"
            ]
          },
          "metadata": {
            "tags": [],
            "needs_background": "light"
          }
        },
        {
          "output_type": "display_data",
          "data": {
            "image/png": "[encoded data removed]",
            "text/plain": [
              "<Figure size 432x288 with 1 Axes>"
            ]
          },
          "metadata": {
            "tags": [],
            "needs_background": "light"
          }
        },
        {
          "output_type": "display_data",
          "data": {
            "image/png": "[encoded data removed]",
            "text/plain": [
              "<Figure size 432x288 with 1 Axes>"
            ]
          },
          "metadata": {
            "tags": [],
            "needs_background": "light"
          }
        },
        {
          "output_type": "display_data",
          "data": {
            "image/png": "[encoded data removed]",
            "text/plain": [
              "<Figure size 432x288 with 1 Axes>"
            ]
          },
          "metadata": {
            "tags": [],
            "needs_background": "light"
          }
        },
        {
          "output_type": "display_data",
          "data": {
            "image/png": "[encoded data removed]",
            "text/plain": [
              "<Figure size 432x288 with 1 Axes>"
            ]
          },
          "metadata": {
            "tags": [],
            "needs_background": "light"
          }
        },
        {
          "output_type": "display_data",
          "data": {
            "image/png": "[encoded data removed]",
            "text/plain": [
              "<Figure size 432x288 with 1 Axes>"
            ]
          },
          "metadata": {
            "tags": [],
            "needs_background": "light"
          }
        },
        {
          "output_type": "display_data",
          "data": {
            "image/png": "[encoded data removed]",
            "text/plain": [
              "<Figure size 432x288 with 1 Axes>"
            ]
          },
          "metadata": {
            "tags": [],
            "needs_background": "light"
          }
        },
        {
          "output_type": "display_data",
          "data": {
            "image/png": "[encoded data removed]",
            "text/plain": [
              "<Figure size 432x288 with 1 Axes>"
            ]
          },
          "metadata": {
            "tags": [],
            "needs_background": "light"
          }
        },
        {
          "output_type": "display_data",
          "data": {
            "image/png": "[encoded data removed]",
            "text/plain": [
              "<Figure size 432x288 with 1 Axes>"
            ]
          },
          "metadata": {
            "tags": [],
            "needs_background": "light"
          }
        }
      ]
    },
    {
      "cell_type": "code",
      "metadata": {
        "id": "K4E-i1XZBeSw",
        "colab_type": "code",
        "colab": {
          "base_uri": "https://localhost:8080/",
          "height": 221
        },
        "outputId": "a67a06ab-a177-46fe-8f67-80889c79f989"
      },
      "source": [
        "result"
      ],
      "execution_count": 48,
      "outputs": [
        {
          "output_type": "execute_result",
          "data": {
            "text/plain": [
              "[42.902095794677734,\n",
              " 0.5699390769004822,\n",
              " 0.6452277898788452,\n",
              " 0.7204871773719788,\n",
              " 0.8306686282157898,\n",
              " 4.612631320953369,\n",
              " 0.6209359169006348,\n",
              " 1.0,\n",
              " 0.8535577058792114,\n",
              " 1.0,\n",
              " 24.986730575561523,\n",
              " 0.8306270241737366]"
            ]
          },
          "metadata": {
            "tags": []
          },
          "execution_count": 48
        }
      ]
    },
    {
      "cell_type": "code",
      "metadata": {
        "id": "WggKw14GHMq2",
        "colab_type": "code",
        "colab": {}
      },
      "source": [
        ""
      ],
      "execution_count": 48,
      "outputs": []
    }
  ]
}